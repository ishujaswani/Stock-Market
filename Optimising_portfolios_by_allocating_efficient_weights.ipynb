{
  "nbformat": 4,
  "nbformat_minor": 0,
  "metadata": {
    "kernelspec": {
      "display_name": "Python [conda env:pyfinance] *",
      "language": "python",
      "name": "conda-env-pyfinance-py"
    },
    "language_info": {
      "codemirror_mode": {
        "name": "ipython",
        "version": 3
      },
      "file_extension": ".py",
      "mimetype": "text/x-python",
      "name": "python",
      "nbconvert_exporter": "python",
      "pygments_lexer": "ipython3",
      "version": "3.8.5"
    },
    "colab": {
      "name": "Optimising portfolios by allocating efficient weights.ipynb",
      "provenance": [],
      "collapsed_sections": [],
      "include_colab_link": true
    }
  },
  "cells": [
    {
      "cell_type": "markdown",
      "metadata": {
        "id": "view-in-github",
        "colab_type": "text"
      },
      "source": [
        "<a href=\"https://colab.research.google.com/github/ishujaswani/Stock-Market/blob/Portfolio-Management/Optimising_portfolios_by_allocating_efficient_weights.ipynb\" target=\"_parent\"><img src=\"https://colab.research.google.com/assets/colab-badge.svg\" alt=\"Open In Colab\"/></a>"
      ]
    },
    {
      "cell_type": "markdown",
      "metadata": {
        "id": "5WU0pftGf1vz"
      },
      "source": [
        "formula for sharpe ratio is \n",
        "s=(rp-rf)/sd of prot\n",
        "1. daily return\n",
        "2. cummalative return\n",
        "3. avg daily return - mean of daily return\n",
        "4. std daily return - standard daily returns\n",
        "\n",
        "SHarpe Ratio is the ratio which decides the risk of the portfolio.\n",
        "Formula for sharpe ratio.\n",
        "s = (rp-rf)/std of protfolio\n",
        "- rf- bank savings account, LIBOR, treasury bond\n",
        "\n",
        "US - assumes that RF is 0 as for a lomg time in US the RF rates in US have been close to 0. therefore in this module we assume the risk free rate to be 0\n",
        "\n",
        "SR = mean return / std \n",
        "Sharpe ratio was intended to be used of mean retun for the year. \n",
        "here we have to use mean daily return therefore in order to fix this,\n",
        "\n",
        "The annualised sharpe ration can be deannualised by multiplying a k-factor - \n",
        "- daily return - k=sqrt(252) # 252 business days in a year\n",
        "- weekly return - K=sqrt(52)\n",
        "- monthly return - k=sqrt(12)\n",
        "\n",
        "if i already have yearly data for the sharpe ratio i dont have to do any sort"
      ]
    },
    {
      "cell_type": "code",
      "metadata": {
        "colab": {
          "base_uri": "https://localhost:8080/"
        },
        "id": "0Sn8sGmsg0-L",
        "outputId": "4d592617-508e-4096-ce73-c88caae8d14e"
      },
      "source": [
        "pip install quandl"
      ],
      "execution_count": null,
      "outputs": [
        {
          "output_type": "stream",
          "text": [
            "Collecting quandl\n",
            "  Downloading https://files.pythonhosted.org/packages/c2/58/9f0e69d836045e3865d263e9ed49f42b23a58526fdabb30f74c430baee3f/Quandl-3.6.0-py2.py3-none-any.whl\n",
            "Requirement already satisfied: numpy>=1.8 in /usr/local/lib/python3.6/dist-packages (from quandl) (1.19.5)\n",
            "Requirement already satisfied: more-itertools in /usr/local/lib/python3.6/dist-packages (from quandl) (8.6.0)\n",
            "Requirement already satisfied: requests>=2.7.0 in /usr/local/lib/python3.6/dist-packages (from quandl) (2.23.0)\n",
            "Requirement already satisfied: six in /usr/local/lib/python3.6/dist-packages (from quandl) (1.15.0)\n",
            "Requirement already satisfied: pandas>=0.14 in /usr/local/lib/python3.6/dist-packages (from quandl) (1.1.5)\n",
            "Collecting inflection>=0.3.1\n",
            "  Downloading https://files.pythonhosted.org/packages/59/91/aa6bde563e0085a02a435aa99b49ef75b0a4b062635e606dab23ce18d720/inflection-0.5.1-py2.py3-none-any.whl\n",
            "Requirement already satisfied: python-dateutil in /usr/local/lib/python3.6/dist-packages (from quandl) (2.8.1)\n",
            "Requirement already satisfied: certifi>=2017.4.17 in /usr/local/lib/python3.6/dist-packages (from requests>=2.7.0->quandl) (2020.12.5)\n",
            "Requirement already satisfied: urllib3!=1.25.0,!=1.25.1,<1.26,>=1.21.1 in /usr/local/lib/python3.6/dist-packages (from requests>=2.7.0->quandl) (1.24.3)\n",
            "Requirement already satisfied: chardet<4,>=3.0.2 in /usr/local/lib/python3.6/dist-packages (from requests>=2.7.0->quandl) (3.0.4)\n",
            "Requirement already satisfied: idna<3,>=2.5 in /usr/local/lib/python3.6/dist-packages (from requests>=2.7.0->quandl) (2.10)\n",
            "Requirement already satisfied: pytz>=2017.2 in /usr/local/lib/python3.6/dist-packages (from pandas>=0.14->quandl) (2018.9)\n",
            "Installing collected packages: inflection, quandl\n",
            "Successfully installed inflection-0.5.1 quandl-3.6.0\n"
          ],
          "name": "stdout"
        }
      ]
    },
    {
      "cell_type": "code",
      "metadata": {
        "id": "fgCNrzyMf1v6"
      },
      "source": [
        "import pandas as pd\n",
        "import numpy as np\n",
        "import quandl\n",
        "import pandas_datareader.data as web\n",
        "import matplotlib.pyplot as plt\n",
        "import math\n",
        "%matplotlib inline"
      ],
      "execution_count": null,
      "outputs": []
    },
    {
      "cell_type": "code",
      "metadata": {
        "id": "KVN9H87wf1v6"
      },
      "source": [
        "# tech stocks"
      ],
      "execution_count": null,
      "outputs": []
    },
    {
      "cell_type": "code",
      "metadata": {
        "id": "qyC5ij-vf1v7"
      },
      "source": [
        "start = pd.to_datetime('2015-01-01')\n",
        "end = pd.to_datetime('2021-01-20')"
      ],
      "execution_count": null,
      "outputs": []
    },
    {
      "cell_type": "code",
      "metadata": {
        "id": "fa5dAtgqf1v7"
      },
      "source": [
        "aapl = web.DataReader('AAPL','yahoo',start,end)\n",
        "cisco = web.DataReader('CSCO','yahoo',start,end)\n",
        "ibm = web.DataReader('IBM','yahoo',start,end)\n",
        "amzn = web.DataReader('AMZN','yahoo',start,end)"
      ],
      "execution_count": null,
      "outputs": []
    },
    {
      "cell_type": "code",
      "metadata": {
        "colab": {
          "base_uri": "https://localhost:8080/"
        },
        "id": "0N79g4z0f1v7",
        "outputId": "30e92ab0-185a-4c26-afa5-137945c7d660"
      },
      "source": [
        "aapl['Adj Close'].iloc[0]"
      ],
      "execution_count": null,
      "outputs": [
        {
          "output_type": "execute_result",
          "data": {
            "text/plain": [
              "24.89855194091797"
            ]
          },
          "metadata": {
            "tags": []
          },
          "execution_count": 10
        }
      ]
    },
    {
      "cell_type": "code",
      "metadata": {
        "id": "R9mYtIUpf1v7"
      },
      "source": [
        "for stock_df in (aapl,cisco,ibm,amzn):\n",
        "    stock_df['normed return'] = stock_df['Adj Close'] / stock_df['Adj Close'].iloc[0]\n"
      ],
      "execution_count": null,
      "outputs": []
    },
    {
      "cell_type": "code",
      "metadata": {
        "colab": {
          "base_uri": "https://localhost:8080/",
          "height": 235
        },
        "id": "DlQ3X8_zf1v7",
        "outputId": "56250512-e388-4a6d-9c3c-adf068ec03dd"
      },
      "source": [
        "cisco.head()"
      ],
      "execution_count": null,
      "outputs": [
        {
          "output_type": "execute_result",
          "data": {
            "text/html": [
              "<div>\n",
              "<style scoped>\n",
              "    .dataframe tbody tr th:only-of-type {\n",
              "        vertical-align: middle;\n",
              "    }\n",
              "\n",
              "    .dataframe tbody tr th {\n",
              "        vertical-align: top;\n",
              "    }\n",
              "\n",
              "    .dataframe thead th {\n",
              "        text-align: right;\n",
              "    }\n",
              "</style>\n",
              "<table border=\"1\" class=\"dataframe\">\n",
              "  <thead>\n",
              "    <tr style=\"text-align: right;\">\n",
              "      <th></th>\n",
              "      <th>High</th>\n",
              "      <th>Low</th>\n",
              "      <th>Open</th>\n",
              "      <th>Close</th>\n",
              "      <th>Volume</th>\n",
              "      <th>Adj Close</th>\n",
              "      <th>normed return</th>\n",
              "    </tr>\n",
              "    <tr>\n",
              "      <th>Date</th>\n",
              "      <th></th>\n",
              "      <th></th>\n",
              "      <th></th>\n",
              "      <th></th>\n",
              "      <th></th>\n",
              "      <th></th>\n",
              "      <th></th>\n",
              "    </tr>\n",
              "  </thead>\n",
              "  <tbody>\n",
              "    <tr>\n",
              "      <th>2015-01-02</th>\n",
              "      <td>28.120001</td>\n",
              "      <td>27.379999</td>\n",
              "      <td>27.860001</td>\n",
              "      <td>27.610001</td>\n",
              "      <td>22926500.0</td>\n",
              "      <td>22.780064</td>\n",
              "      <td>1.000000</td>\n",
              "    </tr>\n",
              "    <tr>\n",
              "      <th>2015-01-05</th>\n",
              "      <td>27.450001</td>\n",
              "      <td>27.000000</td>\n",
              "      <td>27.320000</td>\n",
              "      <td>27.059999</td>\n",
              "      <td>29460600.0</td>\n",
              "      <td>22.326277</td>\n",
              "      <td>0.980080</td>\n",
              "    </tr>\n",
              "    <tr>\n",
              "      <th>2015-01-06</th>\n",
              "      <td>27.680000</td>\n",
              "      <td>27.040001</td>\n",
              "      <td>27.139999</td>\n",
              "      <td>27.049999</td>\n",
              "      <td>47297600.0</td>\n",
              "      <td>22.318022</td>\n",
              "      <td>0.979717</td>\n",
              "    </tr>\n",
              "    <tr>\n",
              "      <th>2015-01-07</th>\n",
              "      <td>27.400000</td>\n",
              "      <td>26.980000</td>\n",
              "      <td>27.139999</td>\n",
              "      <td>27.299999</td>\n",
              "      <td>27570800.0</td>\n",
              "      <td>22.524290</td>\n",
              "      <td>0.988772</td>\n",
              "    </tr>\n",
              "    <tr>\n",
              "      <th>2015-01-08</th>\n",
              "      <td>28.090000</td>\n",
              "      <td>27.469999</td>\n",
              "      <td>27.540001</td>\n",
              "      <td>27.510000</td>\n",
              "      <td>40907000.0</td>\n",
              "      <td>22.697554</td>\n",
              "      <td>0.996378</td>\n",
              "    </tr>\n",
              "  </tbody>\n",
              "</table>\n",
              "</div>"
            ],
            "text/plain": [
              "                 High        Low  ...  Adj Close  normed return\n",
              "Date                              ...                          \n",
              "2015-01-02  28.120001  27.379999  ...  22.780064       1.000000\n",
              "2015-01-05  27.450001  27.000000  ...  22.326277       0.980080\n",
              "2015-01-06  27.680000  27.040001  ...  22.318022       0.979717\n",
              "2015-01-07  27.400000  26.980000  ...  22.524290       0.988772\n",
              "2015-01-08  28.090000  27.469999  ...  22.697554       0.996378\n",
              "\n",
              "[5 rows x 7 columns]"
            ]
          },
          "metadata": {
            "tags": []
          },
          "execution_count": 17
        }
      ]
    },
    {
      "cell_type": "code",
      "metadata": {
        "id": "RnFW01UFf1v8"
      },
      "source": [
        "# 30% in apple\n",
        "# 20% in cisco\n",
        "# 40% in ibm\n",
        "# 10% in amzn"
      ],
      "execution_count": null,
      "outputs": []
    },
    {
      "cell_type": "code",
      "metadata": {
        "scrolled": false,
        "colab": {
          "base_uri": "https://localhost:8080/"
        },
        "id": "lHcOpWnTf1v8",
        "outputId": "ad0a6e04-2a13-4469-dd8e-a133ec2a90de"
      },
      "source": [
        "list(zip((aapl,cisco,ibm,amzn),[0.3,0.2,0.4,0.1]))"
      ],
      "execution_count": null,
      "outputs": [
        {
          "output_type": "execute_result",
          "data": {
            "text/plain": [
              "[(                  High         Low  ...   Adj Close  normed return\n",
              "  Date                                ...                           \n",
              "  2015-01-02   27.860001   26.837500  ...   24.898552       1.000000\n",
              "  2015-01-05   27.162500   26.352501  ...   24.197117       0.971828\n",
              "  2015-01-06   26.857500   26.157499  ...   24.199400       0.971920\n",
              "  2015-01-07   27.049999   26.674999  ...   24.538729       0.985548\n",
              "  2015-01-08   28.037500   27.174999  ...   25.481558       1.023415\n",
              "  ...                ...         ...  ...         ...            ...\n",
              "  2021-01-08  132.630005  130.229996  ...  132.050003       5.303521\n",
              "  2021-01-11  130.169998  128.500000  ...  128.979996       5.180221\n",
              "  2021-01-12  129.690002  126.860001  ...  128.800003       5.172992\n",
              "  2021-01-13  131.449997  128.490005  ...  130.889999       5.256932\n",
              "  2021-01-14  131.000000  128.899994  ...  129.009995       5.181426\n",
              "  \n",
              "  [1520 rows x 7 columns], 0.3),\n",
              " (                 High        Low  ...  Adj Close  normed return\n",
              "  Date                              ...                          \n",
              "  2015-01-02  28.120001  27.379999  ...  22.780064       1.000000\n",
              "  2015-01-05  27.450001  27.000000  ...  22.326277       0.980080\n",
              "  2015-01-06  27.680000  27.040001  ...  22.318022       0.979717\n",
              "  2015-01-07  27.400000  26.980000  ...  22.524290       0.988772\n",
              "  2015-01-08  28.090000  27.469999  ...  22.697554       0.996378\n",
              "  ...               ...        ...  ...        ...            ...\n",
              "  2021-01-08  45.410000  44.250000  ...  45.060001       1.978045\n",
              "  2021-01-11  45.950001  45.020000  ...  45.360001       1.991215\n",
              "  2021-01-12  45.930000  44.959999  ...  45.790001       2.010091\n",
              "  2021-01-13  45.970001  45.180000  ...  45.360001       1.991215\n",
              "  2021-01-14  45.599998  44.869999  ...  45.130001       1.981118\n",
              "  \n",
              "  [1520 rows x 7 columns], 0.2),\n",
              " (                  High         Low  ...   Adj Close  normed return\n",
              "  Date                                ...                           \n",
              "  2015-01-02  163.309998  161.000000  ...  126.239502       1.000000\n",
              "  2015-01-05  161.270004  159.190002  ...  124.253128       0.984265\n",
              "  2015-01-06  159.960007  155.169998  ...  121.573479       0.963038\n",
              "  2015-01-07  157.199997  154.029999  ...  120.778923       0.956744\n",
              "  2015-01-08  159.039993  155.550003  ...  123.404022       0.977539\n",
              "  ...                ...         ...  ...         ...            ...\n",
              "  2021-01-08  129.320007  126.980003  ...  128.529999       1.018144\n",
              "  2021-01-11  129.679993  127.660004  ...  128.580002       1.018540\n",
              "  2021-01-12  129.850006  127.940002  ...  129.210007       1.023531\n",
              "  2021-01-13  129.750000  126.459999  ...  126.919998       1.005391\n",
              "  2021-01-14  130.160004  127.580002  ...  129.169998       1.023214\n",
              "  \n",
              "  [1520 rows x 7 columns], 0.4),\n",
              " (                   High          Low  ...    Adj Close  normed return\n",
              "  Date                                  ...                            \n",
              "  2015-01-02   314.750000   306.959991  ...   308.519989       1.000000\n",
              "  2015-01-05   308.380005   300.850006  ...   302.190002       0.979483\n",
              "  2015-01-06   303.000000   292.380005  ...   295.290009       0.957118\n",
              "  2015-01-07   301.279999   295.329987  ...   298.420013       0.967263\n",
              "  2015-01-08   303.140015   296.109985  ...   300.459991       0.973875\n",
              "  ...                 ...          ...  ...          ...            ...\n",
              "  2021-01-08  3190.639893  3142.199951  ...  3182.699951      10.316025\n",
              "  2021-01-11  3156.379883  3110.000000  ...  3114.209961      10.094030\n",
              "  2021-01-12  3142.139893  3086.000000  ...  3120.830078      10.115487\n",
              "  2021-01-13  3189.949951  3122.080078  ...  3165.889893      10.261539\n",
              "  2021-01-14  3177.925049  3120.590088  ...  3126.500000      10.133865\n",
              "  \n",
              "  [1520 rows x 7 columns], 0.1)]"
            ]
          },
          "metadata": {
            "tags": []
          },
          "execution_count": 16
        }
      ]
    },
    {
      "cell_type": "code",
      "metadata": {
        "id": "c98vMnp9f1v8"
      },
      "source": [
        "for stock_df,allo in zip((aapl,cisco,ibm,amzn),[0.3,0.2,0.4,0.1]):\n",
        "    stock_df['allocation'] = stock_df['normed return']*allo"
      ],
      "execution_count": null,
      "outputs": []
    },
    {
      "cell_type": "code",
      "metadata": {
        "colab": {
          "base_uri": "https://localhost:8080/",
          "height": 235
        },
        "id": "fFfOSgj_f1v8",
        "outputId": "d8c56745-8329-4f4f-b269-db46b5edb0e9"
      },
      "source": [
        "aapl.tail()"
      ],
      "execution_count": null,
      "outputs": [
        {
          "output_type": "execute_result",
          "data": {
            "text/html": [
              "<div>\n",
              "<style scoped>\n",
              "    .dataframe tbody tr th:only-of-type {\n",
              "        vertical-align: middle;\n",
              "    }\n",
              "\n",
              "    .dataframe tbody tr th {\n",
              "        vertical-align: top;\n",
              "    }\n",
              "\n",
              "    .dataframe thead th {\n",
              "        text-align: right;\n",
              "    }\n",
              "</style>\n",
              "<table border=\"1\" class=\"dataframe\">\n",
              "  <thead>\n",
              "    <tr style=\"text-align: right;\">\n",
              "      <th></th>\n",
              "      <th>High</th>\n",
              "      <th>Low</th>\n",
              "      <th>Open</th>\n",
              "      <th>Close</th>\n",
              "      <th>Volume</th>\n",
              "      <th>Adj Close</th>\n",
              "      <th>normed return</th>\n",
              "      <th>allocation</th>\n",
              "    </tr>\n",
              "    <tr>\n",
              "      <th>Date</th>\n",
              "      <th></th>\n",
              "      <th></th>\n",
              "      <th></th>\n",
              "      <th></th>\n",
              "      <th></th>\n",
              "      <th></th>\n",
              "      <th></th>\n",
              "      <th></th>\n",
              "    </tr>\n",
              "  </thead>\n",
              "  <tbody>\n",
              "    <tr>\n",
              "      <th>2021-01-08</th>\n",
              "      <td>132.630005</td>\n",
              "      <td>130.229996</td>\n",
              "      <td>132.429993</td>\n",
              "      <td>132.050003</td>\n",
              "      <td>104965400.0</td>\n",
              "      <td>132.050003</td>\n",
              "      <td>5.303521</td>\n",
              "      <td>1.591056</td>\n",
              "    </tr>\n",
              "    <tr>\n",
              "      <th>2021-01-11</th>\n",
              "      <td>130.169998</td>\n",
              "      <td>128.500000</td>\n",
              "      <td>129.190002</td>\n",
              "      <td>128.979996</td>\n",
              "      <td>100620900.0</td>\n",
              "      <td>128.979996</td>\n",
              "      <td>5.180221</td>\n",
              "      <td>1.554066</td>\n",
              "    </tr>\n",
              "    <tr>\n",
              "      <th>2021-01-12</th>\n",
              "      <td>129.690002</td>\n",
              "      <td>126.860001</td>\n",
              "      <td>128.500000</td>\n",
              "      <td>128.800003</td>\n",
              "      <td>91951100.0</td>\n",
              "      <td>128.800003</td>\n",
              "      <td>5.172992</td>\n",
              "      <td>1.551898</td>\n",
              "    </tr>\n",
              "    <tr>\n",
              "      <th>2021-01-13</th>\n",
              "      <td>131.449997</td>\n",
              "      <td>128.490005</td>\n",
              "      <td>128.759995</td>\n",
              "      <td>130.889999</td>\n",
              "      <td>88636800.0</td>\n",
              "      <td>130.889999</td>\n",
              "      <td>5.256932</td>\n",
              "      <td>1.577080</td>\n",
              "    </tr>\n",
              "    <tr>\n",
              "      <th>2021-01-14</th>\n",
              "      <td>131.000000</td>\n",
              "      <td>128.899994</td>\n",
              "      <td>130.800003</td>\n",
              "      <td>129.009995</td>\n",
              "      <td>68993379.0</td>\n",
              "      <td>129.009995</td>\n",
              "      <td>5.181426</td>\n",
              "      <td>1.554428</td>\n",
              "    </tr>\n",
              "  </tbody>\n",
              "</table>\n",
              "</div>"
            ],
            "text/plain": [
              "                  High         Low  ...  normed return  allocation\n",
              "Date                                ...                           \n",
              "2021-01-08  132.630005  130.229996  ...       5.303521    1.591056\n",
              "2021-01-11  130.169998  128.500000  ...       5.180221    1.554066\n",
              "2021-01-12  129.690002  126.860001  ...       5.172992    1.551898\n",
              "2021-01-13  131.449997  128.490005  ...       5.256932    1.577080\n",
              "2021-01-14  131.000000  128.899994  ...       5.181426    1.554428\n",
              "\n",
              "[5 rows x 8 columns]"
            ]
          },
          "metadata": {
            "tags": []
          },
          "execution_count": 18
        }
      ]
    },
    {
      "cell_type": "code",
      "metadata": {
        "id": "0jARKEzif1v8"
      },
      "source": [
        "for stock_df in (aapl,cisco,ibm,amzn):\n",
        "    stock_df['positional value'] = stock_df['allocation']*1000000"
      ],
      "execution_count": null,
      "outputs": []
    },
    {
      "cell_type": "code",
      "metadata": {
        "scrolled": true,
        "colab": {
          "base_uri": "https://localhost:8080/",
          "height": 235
        },
        "id": "8rLzUMIFf1v8",
        "outputId": "6ca104ae-6e26-4bc6-861c-5566d461433b"
      },
      "source": [
        "aapl.head()"
      ],
      "execution_count": null,
      "outputs": [
        {
          "output_type": "execute_result",
          "data": {
            "text/html": [
              "<div>\n",
              "<style scoped>\n",
              "    .dataframe tbody tr th:only-of-type {\n",
              "        vertical-align: middle;\n",
              "    }\n",
              "\n",
              "    .dataframe tbody tr th {\n",
              "        vertical-align: top;\n",
              "    }\n",
              "\n",
              "    .dataframe thead th {\n",
              "        text-align: right;\n",
              "    }\n",
              "</style>\n",
              "<table border=\"1\" class=\"dataframe\">\n",
              "  <thead>\n",
              "    <tr style=\"text-align: right;\">\n",
              "      <th></th>\n",
              "      <th>High</th>\n",
              "      <th>Low</th>\n",
              "      <th>Open</th>\n",
              "      <th>Close</th>\n",
              "      <th>Volume</th>\n",
              "      <th>Adj Close</th>\n",
              "      <th>normed return</th>\n",
              "      <th>allocation</th>\n",
              "      <th>positional value</th>\n",
              "    </tr>\n",
              "    <tr>\n",
              "      <th>Date</th>\n",
              "      <th></th>\n",
              "      <th></th>\n",
              "      <th></th>\n",
              "      <th></th>\n",
              "      <th></th>\n",
              "      <th></th>\n",
              "      <th></th>\n",
              "      <th></th>\n",
              "      <th></th>\n",
              "    </tr>\n",
              "  </thead>\n",
              "  <tbody>\n",
              "    <tr>\n",
              "      <th>2015-01-02</th>\n",
              "      <td>27.860001</td>\n",
              "      <td>26.837500</td>\n",
              "      <td>27.847500</td>\n",
              "      <td>27.332500</td>\n",
              "      <td>212818400.0</td>\n",
              "      <td>24.898552</td>\n",
              "      <td>1.000000</td>\n",
              "      <td>0.300000</td>\n",
              "      <td>300000.000000</td>\n",
              "    </tr>\n",
              "    <tr>\n",
              "      <th>2015-01-05</th>\n",
              "      <td>27.162500</td>\n",
              "      <td>26.352501</td>\n",
              "      <td>27.072500</td>\n",
              "      <td>26.562500</td>\n",
              "      <td>257142000.0</td>\n",
              "      <td>24.197117</td>\n",
              "      <td>0.971828</td>\n",
              "      <td>0.291548</td>\n",
              "      <td>291548.483332</td>\n",
              "    </tr>\n",
              "    <tr>\n",
              "      <th>2015-01-06</th>\n",
              "      <td>26.857500</td>\n",
              "      <td>26.157499</td>\n",
              "      <td>26.635000</td>\n",
              "      <td>26.565001</td>\n",
              "      <td>263188400.0</td>\n",
              "      <td>24.199400</td>\n",
              "      <td>0.971920</td>\n",
              "      <td>0.291576</td>\n",
              "      <td>291575.992116</td>\n",
              "    </tr>\n",
              "    <tr>\n",
              "      <th>2015-01-07</th>\n",
              "      <td>27.049999</td>\n",
              "      <td>26.674999</td>\n",
              "      <td>26.799999</td>\n",
              "      <td>26.937500</td>\n",
              "      <td>160423600.0</td>\n",
              "      <td>24.538729</td>\n",
              "      <td>0.985548</td>\n",
              "      <td>0.295665</td>\n",
              "      <td>295664.528269</td>\n",
              "    </tr>\n",
              "    <tr>\n",
              "      <th>2015-01-08</th>\n",
              "      <td>28.037500</td>\n",
              "      <td>27.174999</td>\n",
              "      <td>27.307501</td>\n",
              "      <td>27.972500</td>\n",
              "      <td>237458000.0</td>\n",
              "      <td>25.481558</td>\n",
              "      <td>1.023415</td>\n",
              "      <td>0.307025</td>\n",
              "      <td>307024.576046</td>\n",
              "    </tr>\n",
              "  </tbody>\n",
              "</table>\n",
              "</div>"
            ],
            "text/plain": [
              "                 High        Low  ...  allocation  positional value\n",
              "Date                              ...                              \n",
              "2015-01-02  27.860001  26.837500  ...    0.300000     300000.000000\n",
              "2015-01-05  27.162500  26.352501  ...    0.291548     291548.483332\n",
              "2015-01-06  26.857500  26.157499  ...    0.291576     291575.992116\n",
              "2015-01-07  27.049999  26.674999  ...    0.295665     295664.528269\n",
              "2015-01-08  28.037500  27.174999  ...    0.307025     307024.576046\n",
              "\n",
              "[5 rows x 9 columns]"
            ]
          },
          "metadata": {
            "tags": []
          },
          "execution_count": 20
        }
      ]
    },
    {
      "cell_type": "code",
      "metadata": {
        "id": "mQYQ8NSuf1v8"
      },
      "source": [
        "allpos = [aapl['positional value'],cisco['positional value'],ibm['positional value'],amzn['positional value']]\n",
        "port_value = pd.concat(allpos,axis=1)"
      ],
      "execution_count": null,
      "outputs": []
    },
    {
      "cell_type": "code",
      "metadata": {
        "colab": {
          "base_uri": "https://localhost:8080/",
          "height": 450
        },
        "id": "V0iLZo2wf1v8",
        "outputId": "bcecd265-7779-42a2-d286-6acb0eae5bd3"
      },
      "source": [
        "port_value"
      ],
      "execution_count": null,
      "outputs": [
        {
          "output_type": "execute_result",
          "data": {
            "text/html": [
              "<div>\n",
              "<style scoped>\n",
              "    .dataframe tbody tr th:only-of-type {\n",
              "        vertical-align: middle;\n",
              "    }\n",
              "\n",
              "    .dataframe tbody tr th {\n",
              "        vertical-align: top;\n",
              "    }\n",
              "\n",
              "    .dataframe thead th {\n",
              "        text-align: right;\n",
              "    }\n",
              "</style>\n",
              "<table border=\"1\" class=\"dataframe\">\n",
              "  <thead>\n",
              "    <tr style=\"text-align: right;\">\n",
              "      <th></th>\n",
              "      <th>positional value</th>\n",
              "      <th>positional value</th>\n",
              "      <th>positional value</th>\n",
              "      <th>positional value</th>\n",
              "    </tr>\n",
              "    <tr>\n",
              "      <th>Date</th>\n",
              "      <th></th>\n",
              "      <th></th>\n",
              "      <th></th>\n",
              "      <th></th>\n",
              "    </tr>\n",
              "  </thead>\n",
              "  <tbody>\n",
              "    <tr>\n",
              "      <th>2015-01-02</th>\n",
              "      <td>3.000000e+05</td>\n",
              "      <td>200000.000000</td>\n",
              "      <td>400000.000000</td>\n",
              "      <td>1.000000e+05</td>\n",
              "    </tr>\n",
              "    <tr>\n",
              "      <th>2015-01-05</th>\n",
              "      <td>2.915485e+05</td>\n",
              "      <td>196015.929917</td>\n",
              "      <td>393706.014771</td>\n",
              "      <td>9.794827e+04</td>\n",
              "    </tr>\n",
              "    <tr>\n",
              "      <th>2015-01-06</th>\n",
              "      <td>2.915760e+05</td>\n",
              "      <td>195943.454220</td>\n",
              "      <td>385215.330599</td>\n",
              "      <td>9.571179e+04</td>\n",
              "    </tr>\n",
              "    <tr>\n",
              "      <th>2015-01-07</th>\n",
              "      <td>2.956645e+05</td>\n",
              "      <td>197754.408868</td>\n",
              "      <td>382697.717168</td>\n",
              "      <td>9.672631e+04</td>\n",
              "    </tr>\n",
              "    <tr>\n",
              "      <th>2015-01-08</th>\n",
              "      <td>3.070246e+05</td>\n",
              "      <td>199275.594697</td>\n",
              "      <td>391015.554743</td>\n",
              "      <td>9.738753e+04</td>\n",
              "    </tr>\n",
              "    <tr>\n",
              "      <th>...</th>\n",
              "      <td>...</td>\n",
              "      <td>...</td>\n",
              "      <td>...</td>\n",
              "      <td>...</td>\n",
              "    </tr>\n",
              "    <tr>\n",
              "      <th>2021-01-08</th>\n",
              "      <td>1.591056e+06</td>\n",
              "      <td>395609.091413</td>\n",
              "      <td>407257.623139</td>\n",
              "      <td>1.031603e+06</td>\n",
              "    </tr>\n",
              "    <tr>\n",
              "      <th>2021-01-11</th>\n",
              "      <td>1.554066e+06</td>\n",
              "      <td>398242.966734</td>\n",
              "      <td>407416.061824</td>\n",
              "      <td>1.009403e+06</td>\n",
              "    </tr>\n",
              "    <tr>\n",
              "      <th>2021-01-12</th>\n",
              "      <td>1.551898e+06</td>\n",
              "      <td>402018.200309</td>\n",
              "      <td>409412.282890</td>\n",
              "      <td>1.011549e+06</td>\n",
              "    </tr>\n",
              "    <tr>\n",
              "      <th>2021-01-13</th>\n",
              "      <td>1.577080e+06</td>\n",
              "      <td>398242.966734</td>\n",
              "      <td>402156.206909</td>\n",
              "      <td>1.026154e+06</td>\n",
              "    </tr>\n",
              "    <tr>\n",
              "      <th>2021-01-14</th>\n",
              "      <td>1.554428e+06</td>\n",
              "      <td>396223.661205</td>\n",
              "      <td>409285.512603</td>\n",
              "      <td>1.013387e+06</td>\n",
              "    </tr>\n",
              "  </tbody>\n",
              "</table>\n",
              "<p>1520 rows × 4 columns</p>\n",
              "</div>"
            ],
            "text/plain": [
              "            positional value  ...  positional value\n",
              "Date                          ...                  \n",
              "2015-01-02      3.000000e+05  ...      1.000000e+05\n",
              "2015-01-05      2.915485e+05  ...      9.794827e+04\n",
              "2015-01-06      2.915760e+05  ...      9.571179e+04\n",
              "2015-01-07      2.956645e+05  ...      9.672631e+04\n",
              "2015-01-08      3.070246e+05  ...      9.738753e+04\n",
              "...                      ...  ...               ...\n",
              "2021-01-08      1.591056e+06  ...      1.031603e+06\n",
              "2021-01-11      1.554066e+06  ...      1.009403e+06\n",
              "2021-01-12      1.551898e+06  ...      1.011549e+06\n",
              "2021-01-13      1.577080e+06  ...      1.026154e+06\n",
              "2021-01-14      1.554428e+06  ...      1.013387e+06\n",
              "\n",
              "[1520 rows x 4 columns]"
            ]
          },
          "metadata": {
            "tags": []
          },
          "execution_count": 22
        }
      ]
    },
    {
      "cell_type": "code",
      "metadata": {
        "id": "Rc7JgijHf1v9"
      },
      "source": [
        "port_value.columns = ['AAPL POS','CISCO POS','IBM POS','AMZN POS']"
      ],
      "execution_count": null,
      "outputs": []
    },
    {
      "cell_type": "code",
      "metadata": {
        "scrolled": true,
        "colab": {
          "base_uri": "https://localhost:8080/",
          "height": 450
        },
        "id": "85JynWbPf1v9",
        "outputId": "2ad32a28-deaf-4f84-b98b-f8ccb7aa02cf"
      },
      "source": [
        "port_value"
      ],
      "execution_count": null,
      "outputs": [
        {
          "output_type": "execute_result",
          "data": {
            "text/html": [
              "<div>\n",
              "<style scoped>\n",
              "    .dataframe tbody tr th:only-of-type {\n",
              "        vertical-align: middle;\n",
              "    }\n",
              "\n",
              "    .dataframe tbody tr th {\n",
              "        vertical-align: top;\n",
              "    }\n",
              "\n",
              "    .dataframe thead th {\n",
              "        text-align: right;\n",
              "    }\n",
              "</style>\n",
              "<table border=\"1\" class=\"dataframe\">\n",
              "  <thead>\n",
              "    <tr style=\"text-align: right;\">\n",
              "      <th></th>\n",
              "      <th>AAPL POS</th>\n",
              "      <th>CISCO POS</th>\n",
              "      <th>IBM POS</th>\n",
              "      <th>AMZN POS</th>\n",
              "    </tr>\n",
              "    <tr>\n",
              "      <th>Date</th>\n",
              "      <th></th>\n",
              "      <th></th>\n",
              "      <th></th>\n",
              "      <th></th>\n",
              "    </tr>\n",
              "  </thead>\n",
              "  <tbody>\n",
              "    <tr>\n",
              "      <th>2015-01-02</th>\n",
              "      <td>3.000000e+05</td>\n",
              "      <td>200000.000000</td>\n",
              "      <td>400000.000000</td>\n",
              "      <td>1.000000e+05</td>\n",
              "    </tr>\n",
              "    <tr>\n",
              "      <th>2015-01-05</th>\n",
              "      <td>2.915485e+05</td>\n",
              "      <td>196015.929917</td>\n",
              "      <td>393706.014771</td>\n",
              "      <td>9.794827e+04</td>\n",
              "    </tr>\n",
              "    <tr>\n",
              "      <th>2015-01-06</th>\n",
              "      <td>2.915760e+05</td>\n",
              "      <td>195943.454220</td>\n",
              "      <td>385215.330599</td>\n",
              "      <td>9.571179e+04</td>\n",
              "    </tr>\n",
              "    <tr>\n",
              "      <th>2015-01-07</th>\n",
              "      <td>2.956645e+05</td>\n",
              "      <td>197754.408868</td>\n",
              "      <td>382697.717168</td>\n",
              "      <td>9.672631e+04</td>\n",
              "    </tr>\n",
              "    <tr>\n",
              "      <th>2015-01-08</th>\n",
              "      <td>3.070246e+05</td>\n",
              "      <td>199275.594697</td>\n",
              "      <td>391015.554743</td>\n",
              "      <td>9.738753e+04</td>\n",
              "    </tr>\n",
              "    <tr>\n",
              "      <th>...</th>\n",
              "      <td>...</td>\n",
              "      <td>...</td>\n",
              "      <td>...</td>\n",
              "      <td>...</td>\n",
              "    </tr>\n",
              "    <tr>\n",
              "      <th>2021-01-08</th>\n",
              "      <td>1.591056e+06</td>\n",
              "      <td>395609.091413</td>\n",
              "      <td>407257.623139</td>\n",
              "      <td>1.031603e+06</td>\n",
              "    </tr>\n",
              "    <tr>\n",
              "      <th>2021-01-11</th>\n",
              "      <td>1.554066e+06</td>\n",
              "      <td>398242.966734</td>\n",
              "      <td>407416.061824</td>\n",
              "      <td>1.009403e+06</td>\n",
              "    </tr>\n",
              "    <tr>\n",
              "      <th>2021-01-12</th>\n",
              "      <td>1.551898e+06</td>\n",
              "      <td>402018.200309</td>\n",
              "      <td>409412.282890</td>\n",
              "      <td>1.011549e+06</td>\n",
              "    </tr>\n",
              "    <tr>\n",
              "      <th>2021-01-13</th>\n",
              "      <td>1.577080e+06</td>\n",
              "      <td>398242.966734</td>\n",
              "      <td>402156.206909</td>\n",
              "      <td>1.026154e+06</td>\n",
              "    </tr>\n",
              "    <tr>\n",
              "      <th>2021-01-14</th>\n",
              "      <td>1.554428e+06</td>\n",
              "      <td>396223.661205</td>\n",
              "      <td>409285.512603</td>\n",
              "      <td>1.013387e+06</td>\n",
              "    </tr>\n",
              "  </tbody>\n",
              "</table>\n",
              "<p>1520 rows × 4 columns</p>\n",
              "</div>"
            ],
            "text/plain": [
              "                AAPL POS      CISCO POS        IBM POS      AMZN POS\n",
              "Date                                                                \n",
              "2015-01-02  3.000000e+05  200000.000000  400000.000000  1.000000e+05\n",
              "2015-01-05  2.915485e+05  196015.929917  393706.014771  9.794827e+04\n",
              "2015-01-06  2.915760e+05  195943.454220  385215.330599  9.571179e+04\n",
              "2015-01-07  2.956645e+05  197754.408868  382697.717168  9.672631e+04\n",
              "2015-01-08  3.070246e+05  199275.594697  391015.554743  9.738753e+04\n",
              "...                  ...            ...            ...           ...\n",
              "2021-01-08  1.591056e+06  395609.091413  407257.623139  1.031603e+06\n",
              "2021-01-11  1.554066e+06  398242.966734  407416.061824  1.009403e+06\n",
              "2021-01-12  1.551898e+06  402018.200309  409412.282890  1.011549e+06\n",
              "2021-01-13  1.577080e+06  398242.966734  402156.206909  1.026154e+06\n",
              "2021-01-14  1.554428e+06  396223.661205  409285.512603  1.013387e+06\n",
              "\n",
              "[1520 rows x 4 columns]"
            ]
          },
          "metadata": {
            "tags": []
          },
          "execution_count": 24
        }
      ]
    },
    {
      "cell_type": "code",
      "metadata": {
        "id": "y7_MOXKVf1v9"
      },
      "source": [
        "# total position\n",
        "port_value['total']= port_value.sum(axis=1)"
      ],
      "execution_count": null,
      "outputs": []
    },
    {
      "cell_type": "code",
      "metadata": {
        "scrolled": true,
        "colab": {
          "base_uri": "https://localhost:8080/",
          "height": 450
        },
        "id": "-a6o-ah7f1v9",
        "outputId": "cf6c3c36-ae67-414d-b7bd-eaa719e84f7d"
      },
      "source": [
        "port_value"
      ],
      "execution_count": null,
      "outputs": [
        {
          "output_type": "execute_result",
          "data": {
            "text/html": [
              "<div>\n",
              "<style scoped>\n",
              "    .dataframe tbody tr th:only-of-type {\n",
              "        vertical-align: middle;\n",
              "    }\n",
              "\n",
              "    .dataframe tbody tr th {\n",
              "        vertical-align: top;\n",
              "    }\n",
              "\n",
              "    .dataframe thead th {\n",
              "        text-align: right;\n",
              "    }\n",
              "</style>\n",
              "<table border=\"1\" class=\"dataframe\">\n",
              "  <thead>\n",
              "    <tr style=\"text-align: right;\">\n",
              "      <th></th>\n",
              "      <th>AAPL POS</th>\n",
              "      <th>CISCO POS</th>\n",
              "      <th>IBM POS</th>\n",
              "      <th>AMZN POS</th>\n",
              "      <th>total</th>\n",
              "    </tr>\n",
              "    <tr>\n",
              "      <th>Date</th>\n",
              "      <th></th>\n",
              "      <th></th>\n",
              "      <th></th>\n",
              "      <th></th>\n",
              "      <th></th>\n",
              "    </tr>\n",
              "  </thead>\n",
              "  <tbody>\n",
              "    <tr>\n",
              "      <th>2015-01-02</th>\n",
              "      <td>3.000000e+05</td>\n",
              "      <td>200000.000000</td>\n",
              "      <td>400000.000000</td>\n",
              "      <td>1.000000e+05</td>\n",
              "      <td>1.000000e+06</td>\n",
              "    </tr>\n",
              "    <tr>\n",
              "      <th>2015-01-05</th>\n",
              "      <td>2.915485e+05</td>\n",
              "      <td>196015.929917</td>\n",
              "      <td>393706.014771</td>\n",
              "      <td>9.794827e+04</td>\n",
              "      <td>9.792187e+05</td>\n",
              "    </tr>\n",
              "    <tr>\n",
              "      <th>2015-01-06</th>\n",
              "      <td>2.915760e+05</td>\n",
              "      <td>195943.454220</td>\n",
              "      <td>385215.330599</td>\n",
              "      <td>9.571179e+04</td>\n",
              "      <td>9.684466e+05</td>\n",
              "    </tr>\n",
              "    <tr>\n",
              "      <th>2015-01-07</th>\n",
              "      <td>2.956645e+05</td>\n",
              "      <td>197754.408868</td>\n",
              "      <td>382697.717168</td>\n",
              "      <td>9.672631e+04</td>\n",
              "      <td>9.728430e+05</td>\n",
              "    </tr>\n",
              "    <tr>\n",
              "      <th>2015-01-08</th>\n",
              "      <td>3.070246e+05</td>\n",
              "      <td>199275.594697</td>\n",
              "      <td>391015.554743</td>\n",
              "      <td>9.738753e+04</td>\n",
              "      <td>9.947033e+05</td>\n",
              "    </tr>\n",
              "    <tr>\n",
              "      <th>...</th>\n",
              "      <td>...</td>\n",
              "      <td>...</td>\n",
              "      <td>...</td>\n",
              "      <td>...</td>\n",
              "      <td>...</td>\n",
              "    </tr>\n",
              "    <tr>\n",
              "      <th>2021-01-08</th>\n",
              "      <td>1.591056e+06</td>\n",
              "      <td>395609.091413</td>\n",
              "      <td>407257.623139</td>\n",
              "      <td>1.031603e+06</td>\n",
              "      <td>3.425526e+06</td>\n",
              "    </tr>\n",
              "    <tr>\n",
              "      <th>2021-01-11</th>\n",
              "      <td>1.554066e+06</td>\n",
              "      <td>398242.966734</td>\n",
              "      <td>407416.061824</td>\n",
              "      <td>1.009403e+06</td>\n",
              "      <td>3.369128e+06</td>\n",
              "    </tr>\n",
              "    <tr>\n",
              "      <th>2021-01-12</th>\n",
              "      <td>1.551898e+06</td>\n",
              "      <td>402018.200309</td>\n",
              "      <td>409412.282890</td>\n",
              "      <td>1.011549e+06</td>\n",
              "      <td>3.374877e+06</td>\n",
              "    </tr>\n",
              "    <tr>\n",
              "      <th>2021-01-13</th>\n",
              "      <td>1.577080e+06</td>\n",
              "      <td>398242.966734</td>\n",
              "      <td>402156.206909</td>\n",
              "      <td>1.026154e+06</td>\n",
              "      <td>3.403633e+06</td>\n",
              "    </tr>\n",
              "    <tr>\n",
              "      <th>2021-01-14</th>\n",
              "      <td>1.554428e+06</td>\n",
              "      <td>396223.661205</td>\n",
              "      <td>409285.512603</td>\n",
              "      <td>1.013387e+06</td>\n",
              "      <td>3.373323e+06</td>\n",
              "    </tr>\n",
              "  </tbody>\n",
              "</table>\n",
              "<p>1520 rows × 5 columns</p>\n",
              "</div>"
            ],
            "text/plain": [
              "                AAPL POS      CISCO POS  ...      AMZN POS         total\n",
              "Date                                     ...                            \n",
              "2015-01-02  3.000000e+05  200000.000000  ...  1.000000e+05  1.000000e+06\n",
              "2015-01-05  2.915485e+05  196015.929917  ...  9.794827e+04  9.792187e+05\n",
              "2015-01-06  2.915760e+05  195943.454220  ...  9.571179e+04  9.684466e+05\n",
              "2015-01-07  2.956645e+05  197754.408868  ...  9.672631e+04  9.728430e+05\n",
              "2015-01-08  3.070246e+05  199275.594697  ...  9.738753e+04  9.947033e+05\n",
              "...                  ...            ...  ...           ...           ...\n",
              "2021-01-08  1.591056e+06  395609.091413  ...  1.031603e+06  3.425526e+06\n",
              "2021-01-11  1.554066e+06  398242.966734  ...  1.009403e+06  3.369128e+06\n",
              "2021-01-12  1.551898e+06  402018.200309  ...  1.011549e+06  3.374877e+06\n",
              "2021-01-13  1.577080e+06  398242.966734  ...  1.026154e+06  3.403633e+06\n",
              "2021-01-14  1.554428e+06  396223.661205  ...  1.013387e+06  3.373323e+06\n",
              "\n",
              "[1520 rows x 5 columns]"
            ]
          },
          "metadata": {
            "tags": []
          },
          "execution_count": 26
        }
      ]
    },
    {
      "cell_type": "code",
      "metadata": {
        "colab": {
          "base_uri": "https://localhost:8080/",
          "height": 498
        },
        "id": "r2l1tksdf1v9",
        "outputId": "48a0c4aa-969b-4a7b-98b1-f7d0bf51e404"
      },
      "source": [
        "port_value['total'].plot(figsize=(12,8))\n",
        "plt.title('portfolio value')"
      ],
      "execution_count": null,
      "outputs": [
        {
          "output_type": "execute_result",
          "data": {
            "text/plain": [
              "Text(0.5, 1.0, 'portfolio value')"
            ]
          },
          "metadata": {
            "tags": []
          },
          "execution_count": 27
        },
        {
          "output_type": "display_data",
          "data": {
            "image/png": "[encoded data removed]",
            "text/plain": [
              "<Figure size 864x576 with 1 Axes>"
            ]
          },
          "metadata": {
            "tags": [],
            "needs_background": "light"
          }
        }
      ]
    },
    {
      "cell_type": "code",
      "metadata": {
        "colab": {
          "base_uri": "https://localhost:8080/",
          "height": 476
        },
        "id": "Eos5Hk-of1v9",
        "outputId": "7f304567-c6f5-4c46-9b78-0d9fce4b5950"
      },
      "source": [
        "fig = port_value.drop('total',axis=1).plot(figsize=(10,8))"
      ],
      "execution_count": null,
      "outputs": [
        {
          "output_type": "display_data",
          "data": {
            "image/png": "[encoded data removed]",
            "text/plain": [
              "<Figure size 720x576 with 1 Axes>"
            ]
          },
          "metadata": {
            "tags": [],
            "needs_background": "light"
          }
        }
      ]
    },
    {
      "cell_type": "markdown",
      "metadata": {
        "id": "qiW_Of_ef1v9"
      },
      "source": [
        "# portfolio stats"
      ]
    },
    {
      "cell_type": "code",
      "metadata": {
        "id": "BMtnFQYHf1v9"
      },
      "source": [
        "# port_value.drop('daily return',axis=1,inplace=True)"
      ],
      "execution_count": null,
      "outputs": []
    },
    {
      "cell_type": "code",
      "metadata": {
        "id": "v-mR8k5lf1v9"
      },
      "source": [
        "port_value['daily ret check'] = port_value['total'].pct_change(1)"
      ],
      "execution_count": null,
      "outputs": []
    },
    {
      "cell_type": "code",
      "metadata": {
        "colab": {
          "base_uri": "https://localhost:8080/",
          "height": 235
        },
        "id": "Q1TDaI0Ef1v9",
        "outputId": "24588538-c6f8-4019-f3fd-87efd2cfab4b"
      },
      "source": [
        "port_value.head()"
      ],
      "execution_count": null,
      "outputs": [
        {
          "output_type": "execute_result",
          "data": {
            "text/html": [
              "<div>\n",
              "<style scoped>\n",
              "    .dataframe tbody tr th:only-of-type {\n",
              "        vertical-align: middle;\n",
              "    }\n",
              "\n",
              "    .dataframe tbody tr th {\n",
              "        vertical-align: top;\n",
              "    }\n",
              "\n",
              "    .dataframe thead th {\n",
              "        text-align: right;\n",
              "    }\n",
              "</style>\n",
              "<table border=\"1\" class=\"dataframe\">\n",
              "  <thead>\n",
              "    <tr style=\"text-align: right;\">\n",
              "      <th></th>\n",
              "      <th>AAPL POS</th>\n",
              "      <th>CISCO POS</th>\n",
              "      <th>IBM POS</th>\n",
              "      <th>AMZN POS</th>\n",
              "      <th>total</th>\n",
              "      <th>daily ret check</th>\n",
              "    </tr>\n",
              "    <tr>\n",
              "      <th>Date</th>\n",
              "      <th></th>\n",
              "      <th></th>\n",
              "      <th></th>\n",
              "      <th></th>\n",
              "      <th></th>\n",
              "      <th></th>\n",
              "    </tr>\n",
              "  </thead>\n",
              "  <tbody>\n",
              "    <tr>\n",
              "      <th>2015-01-02</th>\n",
              "      <td>300000.000000</td>\n",
              "      <td>200000.000000</td>\n",
              "      <td>400000.000000</td>\n",
              "      <td>100000.000000</td>\n",
              "      <td>1000000.000000</td>\n",
              "      <td>NaN</td>\n",
              "    </tr>\n",
              "    <tr>\n",
              "      <th>2015-01-05</th>\n",
              "      <td>291548.483332</td>\n",
              "      <td>196015.929917</td>\n",
              "      <td>393706.014771</td>\n",
              "      <td>97948.273435</td>\n",
              "      <td>979218.701456</td>\n",
              "      <td>-0.020781</td>\n",
              "    </tr>\n",
              "    <tr>\n",
              "      <th>2015-01-06</th>\n",
              "      <td>291575.992116</td>\n",
              "      <td>195943.454220</td>\n",
              "      <td>385215.330599</td>\n",
              "      <td>95711.791475</td>\n",
              "      <td>968446.568411</td>\n",
              "      <td>-0.011001</td>\n",
              "    </tr>\n",
              "    <tr>\n",
              "      <th>2015-01-07</th>\n",
              "      <td>295664.528269</td>\n",
              "      <td>197754.408868</td>\n",
              "      <td>382697.717168</td>\n",
              "      <td>96726.314033</td>\n",
              "      <td>972842.968338</td>\n",
              "      <td>0.004540</td>\n",
              "    </tr>\n",
              "    <tr>\n",
              "      <th>2015-01-08</th>\n",
              "      <td>307024.576046</td>\n",
              "      <td>199275.594697</td>\n",
              "      <td>391015.554743</td>\n",
              "      <td>97387.528249</td>\n",
              "      <td>994703.253735</td>\n",
              "      <td>0.022471</td>\n",
              "    </tr>\n",
              "  </tbody>\n",
              "</table>\n",
              "</div>"
            ],
            "text/plain": [
              "                 AAPL POS      CISCO POS  ...           total  daily ret check\n",
              "Date                                      ...                                 \n",
              "2015-01-02  300000.000000  200000.000000  ...  1000000.000000              NaN\n",
              "2015-01-05  291548.483332  196015.929917  ...   979218.701456        -0.020781\n",
              "2015-01-06  291575.992116  195943.454220  ...   968446.568411        -0.011001\n",
              "2015-01-07  295664.528269  197754.408868  ...   972842.968338         0.004540\n",
              "2015-01-08  307024.576046  199275.594697  ...   994703.253735         0.022471\n",
              "\n",
              "[5 rows x 6 columns]"
            ]
          },
          "metadata": {
            "tags": []
          },
          "execution_count": 31
        }
      ]
    },
    {
      "cell_type": "code",
      "metadata": {
        "id": "GNTRUu39f1v9"
      },
      "source": [
        "port_value['daily return'] = (port_value['total'] / port_value['total'].shift(periods=1))-1"
      ],
      "execution_count": null,
      "outputs": []
    },
    {
      "cell_type": "code",
      "metadata": {
        "id": "0x3rWrS-f1v-"
      },
      "source": [
        "port_value.drop('daily ret check',axis=1,inplace=True)"
      ],
      "execution_count": null,
      "outputs": []
    },
    {
      "cell_type": "code",
      "metadata": {
        "colab": {
          "base_uri": "https://localhost:8080/",
          "height": 235
        },
        "id": "fXs_01EOf1v-",
        "outputId": "7385f552-59f4-4589-d6e6-421524b28425"
      },
      "source": [
        "port_value.head()"
      ],
      "execution_count": null,
      "outputs": [
        {
          "output_type": "execute_result",
          "data": {
            "text/html": [
              "<div>\n",
              "<style scoped>\n",
              "    .dataframe tbody tr th:only-of-type {\n",
              "        vertical-align: middle;\n",
              "    }\n",
              "\n",
              "    .dataframe tbody tr th {\n",
              "        vertical-align: top;\n",
              "    }\n",
              "\n",
              "    .dataframe thead th {\n",
              "        text-align: right;\n",
              "    }\n",
              "</style>\n",
              "<table border=\"1\" class=\"dataframe\">\n",
              "  <thead>\n",
              "    <tr style=\"text-align: right;\">\n",
              "      <th></th>\n",
              "      <th>AAPL POS</th>\n",
              "      <th>CISCO POS</th>\n",
              "      <th>IBM POS</th>\n",
              "      <th>AMZN POS</th>\n",
              "      <th>total</th>\n",
              "      <th>daily return</th>\n",
              "    </tr>\n",
              "    <tr>\n",
              "      <th>Date</th>\n",
              "      <th></th>\n",
              "      <th></th>\n",
              "      <th></th>\n",
              "      <th></th>\n",
              "      <th></th>\n",
              "      <th></th>\n",
              "    </tr>\n",
              "  </thead>\n",
              "  <tbody>\n",
              "    <tr>\n",
              "      <th>2015-01-02</th>\n",
              "      <td>300000.000000</td>\n",
              "      <td>200000.000000</td>\n",
              "      <td>400000.000000</td>\n",
              "      <td>100000.000000</td>\n",
              "      <td>1000000.000000</td>\n",
              "      <td>NaN</td>\n",
              "    </tr>\n",
              "    <tr>\n",
              "      <th>2015-01-05</th>\n",
              "      <td>291548.483332</td>\n",
              "      <td>196015.929917</td>\n",
              "      <td>393706.014771</td>\n",
              "      <td>97948.273435</td>\n",
              "      <td>979218.701456</td>\n",
              "      <td>-0.020781</td>\n",
              "    </tr>\n",
              "    <tr>\n",
              "      <th>2015-01-06</th>\n",
              "      <td>291575.992116</td>\n",
              "      <td>195943.454220</td>\n",
              "      <td>385215.330599</td>\n",
              "      <td>95711.791475</td>\n",
              "      <td>968446.568411</td>\n",
              "      <td>-0.011001</td>\n",
              "    </tr>\n",
              "    <tr>\n",
              "      <th>2015-01-07</th>\n",
              "      <td>295664.528269</td>\n",
              "      <td>197754.408868</td>\n",
              "      <td>382697.717168</td>\n",
              "      <td>96726.314033</td>\n",
              "      <td>972842.968338</td>\n",
              "      <td>0.004540</td>\n",
              "    </tr>\n",
              "    <tr>\n",
              "      <th>2015-01-08</th>\n",
              "      <td>307024.576046</td>\n",
              "      <td>199275.594697</td>\n",
              "      <td>391015.554743</td>\n",
              "      <td>97387.528249</td>\n",
              "      <td>994703.253735</td>\n",
              "      <td>0.022471</td>\n",
              "    </tr>\n",
              "  </tbody>\n",
              "</table>\n",
              "</div>"
            ],
            "text/plain": [
              "                 AAPL POS      CISCO POS  ...           total  daily return\n",
              "Date                                      ...                              \n",
              "2015-01-02  300000.000000  200000.000000  ...  1000000.000000           NaN\n",
              "2015-01-05  291548.483332  196015.929917  ...   979218.701456     -0.020781\n",
              "2015-01-06  291575.992116  195943.454220  ...   968446.568411     -0.011001\n",
              "2015-01-07  295664.528269  197754.408868  ...   972842.968338      0.004540\n",
              "2015-01-08  307024.576046  199275.594697  ...   994703.253735      0.022471\n",
              "\n",
              "[5 rows x 6 columns]"
            ]
          },
          "metadata": {
            "tags": []
          },
          "execution_count": 34
        }
      ]
    },
    {
      "cell_type": "code",
      "metadata": {
        "colab": {
          "base_uri": "https://localhost:8080/"
        },
        "id": "NmqLCWTKf1v-",
        "outputId": "55c1449d-3649-4f06-a88f-ab74dab803c8"
      },
      "source": [
        "port_value['daily return'].mean()"
      ],
      "execution_count": null,
      "outputs": [
        {
          "output_type": "execute_result",
          "data": {
            "text/plain": [
              "0.0009043629689743614"
            ]
          },
          "metadata": {
            "tags": []
          },
          "execution_count": 35
        }
      ]
    },
    {
      "cell_type": "code",
      "metadata": {
        "colab": {
          "base_uri": "https://localhost:8080/"
        },
        "id": "moB3L9uUf1v-",
        "outputId": "10d2a7be-bfb9-43ff-f684-1224e731fa69"
      },
      "source": [
        "port_value['daily return'].std()"
      ],
      "execution_count": null,
      "outputs": [
        {
          "output_type": "execute_result",
          "data": {
            "text/plain": [
              "0.014378464632141463"
            ]
          },
          "metadata": {
            "tags": []
          },
          "execution_count": 36
        }
      ]
    },
    {
      "cell_type": "code",
      "metadata": {
        "colab": {
          "base_uri": "https://localhost:8080/",
          "height": 500
        },
        "id": "4f4AHjfif1v-",
        "outputId": "b30de1a0-9dd9-4837-b8ab-2b1d69560ffd"
      },
      "source": [
        "port_value['daily return'].plot(kind='hist',bins=100,figsize=(10,8))"
      ],
      "execution_count": null,
      "outputs": [
        {
          "output_type": "execute_result",
          "data": {
            "text/plain": [
              "<matplotlib.axes._subplots.AxesSubplot at 0x7f8948a05c88>"
            ]
          },
          "metadata": {
            "tags": []
          },
          "execution_count": 37
        },
        {
          "output_type": "display_data",
          "data": {
            "image/png": "[encoded data removed]",
            "text/plain": [
              "<Figure size 720x576 with 1 Axes>"
            ]
          },
          "metadata": {
            "tags": [],
            "needs_background": "light"
          }
        }
      ]
    },
    {
      "cell_type": "code",
      "metadata": {
        "colab": {
          "base_uri": "https://localhost:8080/",
          "height": 500
        },
        "id": "urixL5sZf1v-",
        "outputId": "0de7aacd-851e-44ff-f0e9-17afc03c49f4"
      },
      "source": [
        "port_value['daily return'].plot(kind='kde',figsize=(10,8))"
      ],
      "execution_count": null,
      "outputs": [
        {
          "output_type": "execute_result",
          "data": {
            "text/plain": [
              "<matplotlib.axes._subplots.AxesSubplot at 0x7f8945806cf8>"
            ]
          },
          "metadata": {
            "tags": []
          },
          "execution_count": 38
        },
        {
          "output_type": "display_data",
          "data": {
            "image/png": "[encoded data removed]",
            "text/plain": [
              "<Figure size 720x576 with 1 Axes>"
            ]
          },
          "metadata": {
            "tags": [],
            "needs_background": "light"
          }
        }
      ]
    },
    {
      "cell_type": "code",
      "metadata": {
        "id": "47Pn08cHf1v-"
      },
      "source": [
        "# over all purcentage on return\n",
        "cmulative_return = 100*(port_value['total'][-1]/port_value['total'][0] - 1)"
      ],
      "execution_count": null,
      "outputs": []
    },
    {
      "cell_type": "code",
      "metadata": {
        "colab": {
          "base_uri": "https://localhost:8080/"
        },
        "id": "Hp-XGri9f1v-",
        "outputId": "b24b9f47-54c6-46eb-ceb4-60f303beb2c2"
      },
      "source": [
        "cmulative_return"
      ],
      "execution_count": null,
      "outputs": [
        {
          "output_type": "execute_result",
          "data": {
            "text/plain": [
              "237.33233811655262"
            ]
          },
          "metadata": {
            "tags": []
          },
          "execution_count": 40
        }
      ]
    },
    {
      "cell_type": "code",
      "metadata": {
        "colab": {
          "base_uri": "https://localhost:8080/"
        },
        "id": "IrmwsBbTf1v-",
        "outputId": "de7406fd-ee95-4851-eeff-735ae966be42"
      },
      "source": [
        "port_value['total'][-1]"
      ],
      "execution_count": null,
      "outputs": [
        {
          "output_type": "execute_result",
          "data": {
            "text/plain": [
              "3373323.3811655263"
            ]
          },
          "metadata": {
            "tags": []
          },
          "execution_count": 41
        }
      ]
    },
    {
      "cell_type": "markdown",
      "metadata": {
        "id": "H4HS55aXf1v-"
      },
      "source": [
        "# sharpe ratio"
      ]
    },
    {
      "cell_type": "code",
      "metadata": {
        "id": "5huQ4egLf1v-"
      },
      "source": [
        "SR = port_value['daily return'].mean()/port_value['daily return'].std()"
      ],
      "execution_count": null,
      "outputs": []
    },
    {
      "cell_type": "code",
      "metadata": {
        "colab": {
          "base_uri": "https://localhost:8080/"
        },
        "id": "n_LKzZ0Tf1v_",
        "outputId": "b2724b52-3dd5-4bde-f151-e38a19b57922"
      },
      "source": [
        "SR"
      ],
      "execution_count": null,
      "outputs": [
        {
          "output_type": "execute_result",
          "data": {
            "text/plain": [
              "0.06289704722385715"
            ]
          },
          "metadata": {
            "tags": []
          },
          "execution_count": 43
        }
      ]
    },
    {
      "cell_type": "code",
      "metadata": {
        "id": "ZIYh97Whf1v_"
      },
      "source": [
        "ASR = math.sqrt(252)*SR"
      ],
      "execution_count": null,
      "outputs": []
    },
    {
      "cell_type": "code",
      "metadata": {
        "colab": {
          "base_uri": "https://localhost:8080/"
        },
        "id": "23bceFbBf1v_",
        "outputId": "fc20b24a-23a7-4813-f9d2-b68542b31779"
      },
      "source": [
        "ASR"
      ],
      "execution_count": null,
      "outputs": [
        {
          "output_type": "execute_result",
          "data": {
            "text/plain": [
              "0.9984596709276692"
            ]
          },
          "metadata": {
            "tags": []
          },
          "execution_count": 45
        }
      ]
    },
    {
      "cell_type": "code",
      "metadata": {
        "id": "wkHeG4elf1v_"
      },
      "source": [
        "# SR less than 1 is not that g as risk is higher\n",
        "# SR more than 1 is considered good as return more then risk(volitility)\n",
        "# SR more than 2 is deemed very good \n",
        "# SR more than 3 is very safe and is very difficult to get such a ratio in the stock market"
      ],
      "execution_count": null,
      "outputs": []
    },
    {
      "cell_type": "code",
      "metadata": {
        "id": "fPv9NI5of1v_"
      },
      "source": [
        "stocks = pd.concat([aapl['Adj Close'],cisco['Adj Close'],ibm['Adj Close'],amzn['Adj Close']],axis=1)"
      ],
      "execution_count": null,
      "outputs": []
    },
    {
      "cell_type": "code",
      "metadata": {
        "id": "r5-FFy7Ff1v_"
      },
      "source": [
        "stocks.columns=['apple Adj Close','Cisco Adj Close','IBM Adj Close','Amzn Adj Close']"
      ],
      "execution_count": null,
      "outputs": []
    },
    {
      "cell_type": "code",
      "metadata": {
        "colab": {
          "base_uri": "https://localhost:8080/",
          "height": 235
        },
        "id": "Ub9Txdfmf1v_",
        "outputId": "92e249d1-2092-4dbe-c2ab-45c69d2ec1be"
      },
      "source": [
        "stocks.head()"
      ],
      "execution_count": null,
      "outputs": [
        {
          "output_type": "execute_result",
          "data": {
            "text/html": [
              "<div>\n",
              "<style scoped>\n",
              "    .dataframe tbody tr th:only-of-type {\n",
              "        vertical-align: middle;\n",
              "    }\n",
              "\n",
              "    .dataframe tbody tr th {\n",
              "        vertical-align: top;\n",
              "    }\n",
              "\n",
              "    .dataframe thead th {\n",
              "        text-align: right;\n",
              "    }\n",
              "</style>\n",
              "<table border=\"1\" class=\"dataframe\">\n",
              "  <thead>\n",
              "    <tr style=\"text-align: right;\">\n",
              "      <th></th>\n",
              "      <th>apple Adj Close</th>\n",
              "      <th>Cisco Adj Close</th>\n",
              "      <th>IBM Adj Close</th>\n",
              "      <th>Amzn Adj Close</th>\n",
              "    </tr>\n",
              "    <tr>\n",
              "      <th>Date</th>\n",
              "      <th></th>\n",
              "      <th></th>\n",
              "      <th></th>\n",
              "      <th></th>\n",
              "    </tr>\n",
              "  </thead>\n",
              "  <tbody>\n",
              "    <tr>\n",
              "      <th>2015-01-02</th>\n",
              "      <td>24.898552</td>\n",
              "      <td>22.780064</td>\n",
              "      <td>126.239502</td>\n",
              "      <td>308.519989</td>\n",
              "    </tr>\n",
              "    <tr>\n",
              "      <th>2015-01-05</th>\n",
              "      <td>24.197117</td>\n",
              "      <td>22.326277</td>\n",
              "      <td>124.253128</td>\n",
              "      <td>302.190002</td>\n",
              "    </tr>\n",
              "    <tr>\n",
              "      <th>2015-01-06</th>\n",
              "      <td>24.199400</td>\n",
              "      <td>22.318022</td>\n",
              "      <td>121.573479</td>\n",
              "      <td>295.290009</td>\n",
              "    </tr>\n",
              "    <tr>\n",
              "      <th>2015-01-07</th>\n",
              "      <td>24.538729</td>\n",
              "      <td>22.524290</td>\n",
              "      <td>120.778923</td>\n",
              "      <td>298.420013</td>\n",
              "    </tr>\n",
              "    <tr>\n",
              "      <th>2015-01-08</th>\n",
              "      <td>25.481558</td>\n",
              "      <td>22.697554</td>\n",
              "      <td>123.404022</td>\n",
              "      <td>300.459991</td>\n",
              "    </tr>\n",
              "  </tbody>\n",
              "</table>\n",
              "</div>"
            ],
            "text/plain": [
              "            apple Adj Close  Cisco Adj Close  IBM Adj Close  Amzn Adj Close\n",
              "Date                                                                       \n",
              "2015-01-02        24.898552        22.780064     126.239502      308.519989\n",
              "2015-01-05        24.197117        22.326277     124.253128      302.190002\n",
              "2015-01-06        24.199400        22.318022     121.573479      295.290009\n",
              "2015-01-07        24.538729        22.524290     120.778923      298.420013\n",
              "2015-01-08        25.481558        22.697554     123.404022      300.459991"
            ]
          },
          "metadata": {
            "tags": []
          },
          "execution_count": 49
        }
      ]
    },
    {
      "cell_type": "code",
      "metadata": {
        "colab": {
          "base_uri": "https://localhost:8080/"
        },
        "id": "Xl12sgyYf1v_",
        "outputId": "debe7445-d755-4bed-8454-34c827994faa"
      },
      "source": [
        "stocks.pct_change(1).mean()"
      ],
      "execution_count": null,
      "outputs": [
        {
          "output_type": "execute_result",
          "data": {
            "text/plain": [
              "apple Adj Close    0.001258\n",
              "Cisco Adj Close    0.000592\n",
              "IBM Adj Close      0.000141\n",
              "Amzn Adj Close     0.001714\n",
              "dtype: float64"
            ]
          },
          "metadata": {
            "tags": []
          },
          "execution_count": 50
        }
      ]
    },
    {
      "cell_type": "code",
      "metadata": {
        "colab": {
          "base_uri": "https://localhost:8080/",
          "height": 173
        },
        "id": "qCVNZvDJf1v_",
        "outputId": "a7b3ae0a-4c7d-4a1f-fb1c-33bf5ba6af3c"
      },
      "source": [
        "stocks.pct_change(1).corr()"
      ],
      "execution_count": null,
      "outputs": [
        {
          "output_type": "execute_result",
          "data": {
            "text/html": [
              "<div>\n",
              "<style scoped>\n",
              "    .dataframe tbody tr th:only-of-type {\n",
              "        vertical-align: middle;\n",
              "    }\n",
              "\n",
              "    .dataframe tbody tr th {\n",
              "        vertical-align: top;\n",
              "    }\n",
              "\n",
              "    .dataframe thead th {\n",
              "        text-align: right;\n",
              "    }\n",
              "</style>\n",
              "<table border=\"1\" class=\"dataframe\">\n",
              "  <thead>\n",
              "    <tr style=\"text-align: right;\">\n",
              "      <th></th>\n",
              "      <th>apple Adj Close</th>\n",
              "      <th>Cisco Adj Close</th>\n",
              "      <th>IBM Adj Close</th>\n",
              "      <th>Amzn Adj Close</th>\n",
              "    </tr>\n",
              "  </thead>\n",
              "  <tbody>\n",
              "    <tr>\n",
              "      <th>apple Adj Close</th>\n",
              "      <td>1.000000</td>\n",
              "      <td>0.568217</td>\n",
              "      <td>0.469813</td>\n",
              "      <td>0.554905</td>\n",
              "    </tr>\n",
              "    <tr>\n",
              "      <th>Cisco Adj Close</th>\n",
              "      <td>0.568217</td>\n",
              "      <td>1.000000</td>\n",
              "      <td>0.600705</td>\n",
              "      <td>0.453697</td>\n",
              "    </tr>\n",
              "    <tr>\n",
              "      <th>IBM Adj Close</th>\n",
              "      <td>0.469813</td>\n",
              "      <td>0.600705</td>\n",
              "      <td>1.000000</td>\n",
              "      <td>0.351488</td>\n",
              "    </tr>\n",
              "    <tr>\n",
              "      <th>Amzn Adj Close</th>\n",
              "      <td>0.554905</td>\n",
              "      <td>0.453697</td>\n",
              "      <td>0.351488</td>\n",
              "      <td>1.000000</td>\n",
              "    </tr>\n",
              "  </tbody>\n",
              "</table>\n",
              "</div>"
            ],
            "text/plain": [
              "                 apple Adj Close  ...  Amzn Adj Close\n",
              "apple Adj Close         1.000000  ...        0.554905\n",
              "Cisco Adj Close         0.568217  ...        0.453697\n",
              "IBM Adj Close           0.469813  ...        0.351488\n",
              "Amzn Adj Close          0.554905  ...        1.000000\n",
              "\n",
              "[4 rows x 4 columns]"
            ]
          },
          "metadata": {
            "tags": []
          },
          "execution_count": 51
        }
      ]
    },
    {
      "cell_type": "markdown",
      "metadata": {
        "id": "PovVuGmJf1v_"
      },
      "source": [
        "### Lograthimic returns vs Arithmatic returns"
      ]
    },
    {
      "cell_type": "markdown",
      "metadata": {
        "id": "sUwGjVAGf1v_"
      },
      "source": [
        "log ret is continuously compounded and gives a normalied return, can be added but only 1 stock. "
      ]
    },
    {
      "cell_type": "code",
      "metadata": {
        "colab": {
          "base_uri": "https://localhost:8080/",
          "height": 235
        },
        "id": "n_4-oBcyf1v_",
        "outputId": "989e9c2f-d5a2-4128-c4e9-c5b117d4705f"
      },
      "source": [
        "log_ret = np.log(stocks/stocks.shift(periods=1))\n",
        "log_ret.head()"
      ],
      "execution_count": null,
      "outputs": [
        {
          "output_type": "execute_result",
          "data": {
            "text/html": [
              "<div>\n",
              "<style scoped>\n",
              "    .dataframe tbody tr th:only-of-type {\n",
              "        vertical-align: middle;\n",
              "    }\n",
              "\n",
              "    .dataframe tbody tr th {\n",
              "        vertical-align: top;\n",
              "    }\n",
              "\n",
              "    .dataframe thead th {\n",
              "        text-align: right;\n",
              "    }\n",
              "</style>\n",
              "<table border=\"1\" class=\"dataframe\">\n",
              "  <thead>\n",
              "    <tr style=\"text-align: right;\">\n",
              "      <th></th>\n",
              "      <th>apple Adj Close</th>\n",
              "      <th>Cisco Adj Close</th>\n",
              "      <th>IBM Adj Close</th>\n",
              "      <th>Amzn Adj Close</th>\n",
              "    </tr>\n",
              "    <tr>\n",
              "      <th>Date</th>\n",
              "      <th></th>\n",
              "      <th></th>\n",
              "      <th></th>\n",
              "      <th></th>\n",
              "    </tr>\n",
              "  </thead>\n",
              "  <tbody>\n",
              "    <tr>\n",
              "      <th>2015-01-02</th>\n",
              "      <td>NaN</td>\n",
              "      <td>NaN</td>\n",
              "      <td>NaN</td>\n",
              "      <td>NaN</td>\n",
              "    </tr>\n",
              "    <tr>\n",
              "      <th>2015-01-05</th>\n",
              "      <td>-0.028576</td>\n",
              "      <td>-0.020121</td>\n",
              "      <td>-0.015860</td>\n",
              "      <td>-0.020731</td>\n",
              "    </tr>\n",
              "    <tr>\n",
              "      <th>2015-01-06</th>\n",
              "      <td>0.000094</td>\n",
              "      <td>-0.000370</td>\n",
              "      <td>-0.021802</td>\n",
              "      <td>-0.023098</td>\n",
              "    </tr>\n",
              "    <tr>\n",
              "      <th>2015-01-07</th>\n",
              "      <td>0.013925</td>\n",
              "      <td>0.009200</td>\n",
              "      <td>-0.006557</td>\n",
              "      <td>0.010544</td>\n",
              "    </tr>\n",
              "    <tr>\n",
              "      <th>2015-01-08</th>\n",
              "      <td>0.037702</td>\n",
              "      <td>0.007663</td>\n",
              "      <td>0.021502</td>\n",
              "      <td>0.006813</td>\n",
              "    </tr>\n",
              "  </tbody>\n",
              "</table>\n",
              "</div>"
            ],
            "text/plain": [
              "            apple Adj Close  Cisco Adj Close  IBM Adj Close  Amzn Adj Close\n",
              "Date                                                                       \n",
              "2015-01-02              NaN              NaN            NaN             NaN\n",
              "2015-01-05        -0.028576        -0.020121      -0.015860       -0.020731\n",
              "2015-01-06         0.000094        -0.000370      -0.021802       -0.023098\n",
              "2015-01-07         0.013925         0.009200      -0.006557        0.010544\n",
              "2015-01-08         0.037702         0.007663       0.021502        0.006813"
            ]
          },
          "metadata": {
            "tags": []
          },
          "execution_count": 52
        }
      ]
    },
    {
      "cell_type": "code",
      "metadata": {
        "colab": {
          "base_uri": "https://localhost:8080/",
          "height": 585
        },
        "id": "zAtidP9Xf1wA",
        "outputId": "d3530165-82a5-4f03-dba5-7a73a8d4bd1f"
      },
      "source": [
        "log_ret.hist(bins=100,figsize=(12,8))\n",
        "plt.tight_layout()"
      ],
      "execution_count": null,
      "outputs": [
        {
          "output_type": "display_data",
          "data": {
            "image/png": "[encoded data removed]",
            "text/plain": [
              "<Figure size 864x576 with 4 Axes>"
            ]
          },
          "metadata": {
            "tags": [],
            "needs_background": "light"
          }
        }
      ]
    },
    {
      "cell_type": "code",
      "metadata": {
        "colab": {
          "base_uri": "https://localhost:8080/"
        },
        "id": "CAIOQVGYf1wA",
        "outputId": "92b2e35d-28c8-4302-a602-aec583821d2f"
      },
      "source": [
        "log_ret.mean()"
      ],
      "execution_count": null,
      "outputs": [
        {
          "output_type": "execute_result",
          "data": {
            "text/plain": [
              "apple Adj Close    0.001083\n",
              "Cisco Adj Close    0.000450\n",
              "IBM Adj Close      0.000015\n",
              "Amzn Adj Close     0.001525\n",
              "dtype: float64"
            ]
          },
          "metadata": {
            "tags": []
          },
          "execution_count": 54
        }
      ]
    },
    {
      "cell_type": "code",
      "metadata": {
        "colab": {
          "base_uri": "https://localhost:8080/",
          "height": 173
        },
        "id": "DGb3PtDOf1wA",
        "outputId": "fda71e57-802b-4298-89ac-d4080cba7a9c"
      },
      "source": [
        "log_ret.cov() *252 #multiply by busines days"
      ],
      "execution_count": null,
      "outputs": [
        {
          "output_type": "execute_result",
          "data": {
            "text/html": [
              "<div>\n",
              "<style scoped>\n",
              "    .dataframe tbody tr th:only-of-type {\n",
              "        vertical-align: middle;\n",
              "    }\n",
              "\n",
              "    .dataframe tbody tr th {\n",
              "        vertical-align: top;\n",
              "    }\n",
              "\n",
              "    .dataframe thead th {\n",
              "        text-align: right;\n",
              "    }\n",
              "</style>\n",
              "<table border=\"1\" class=\"dataframe\">\n",
              "  <thead>\n",
              "    <tr style=\"text-align: right;\">\n",
              "      <th></th>\n",
              "      <th>apple Adj Close</th>\n",
              "      <th>Cisco Adj Close</th>\n",
              "      <th>IBM Adj Close</th>\n",
              "      <th>Amzn Adj Close</th>\n",
              "    </tr>\n",
              "  </thead>\n",
              "  <tbody>\n",
              "    <tr>\n",
              "      <th>apple Adj Close</th>\n",
              "      <td>0.088162</td>\n",
              "      <td>0.045159</td>\n",
              "      <td>0.035356</td>\n",
              "      <td>0.051085</td>\n",
              "    </tr>\n",
              "    <tr>\n",
              "      <th>Cisco Adj Close</th>\n",
              "      <td>0.045159</td>\n",
              "      <td>0.071534</td>\n",
              "      <td>0.040561</td>\n",
              "      <td>0.037688</td>\n",
              "    </tr>\n",
              "    <tr>\n",
              "      <th>IBM Adj Close</th>\n",
              "      <td>0.035356</td>\n",
              "      <td>0.040561</td>\n",
              "      <td>0.063511</td>\n",
              "      <td>0.027618</td>\n",
              "    </tr>\n",
              "    <tr>\n",
              "      <th>Amzn Adj Close</th>\n",
              "      <td>0.051085</td>\n",
              "      <td>0.037688</td>\n",
              "      <td>0.027618</td>\n",
              "      <td>0.094395</td>\n",
              "    </tr>\n",
              "  </tbody>\n",
              "</table>\n",
              "</div>"
            ],
            "text/plain": [
              "                 apple Adj Close  ...  Amzn Adj Close\n",
              "apple Adj Close         0.088162  ...        0.051085\n",
              "Cisco Adj Close         0.045159  ...        0.037688\n",
              "IBM Adj Close           0.035356  ...        0.027618\n",
              "Amzn Adj Close          0.051085  ...        0.094395\n",
              "\n",
              "[4 rows x 4 columns]"
            ]
          },
          "metadata": {
            "tags": []
          },
          "execution_count": 55
        }
      ]
    },
    {
      "cell_type": "code",
      "metadata": {
        "colab": {
          "base_uri": "https://localhost:8080/"
        },
        "id": "iYxqfQYsf1wA",
        "outputId": "3accb26f-d80f-49fe-bef5-d8e32fb28bf6"
      },
      "source": [
        "np.random.seed(101)\n",
        "print(stocks.columns)\n",
        "weights=np.array(np.random.random(4))\n",
        "print('random weights:'+ str(weights)+'\\n and the sum of the weights:'+str(np.sum(weights)))\n",
        "print('rebalance the weights')\n",
        "re_weights = weights/np.sum(weights)\n",
        "print('rebalanced weights are:'+ str(re_weights)+'\\nand the sum of the rebalanced weights:'+str(np.sum(re_weights)))\n",
        "print('\\n expected return')\n",
        "# expected returns\n",
        "exp_logret = np.sum((log_ret.mean()*re_weights)*252)\n",
        "print(exp_logret)\n",
        "# expected volitility\n",
        "print('\\n expected volitility')\n",
        "exp_vol = np.sqrt(np.dot(re_weights.T,np.dot(log_ret.cov()*252,re_weights)))\n",
        "print(exp_vol)\n",
        "print('\\n sharpe ratio')\n",
        "SR = exp_logret/exp_vol\n",
        "print(SR)"
      ],
      "execution_count": null,
      "outputs": [
        {
          "output_type": "stream",
          "text": [
            "Index(['apple Adj Close', 'Cisco Adj Close', 'IBM Adj Close',\n",
            "       'Amzn Adj Close'],\n",
            "      dtype='object')\n",
            "random weights:[0.51639863 0.57066759 0.02847423 0.17152166]\n",
            " and the sum of the weights:1.2870620972737856\n",
            "rebalance the weights\n",
            "rebalanced weights are:[0.40122278 0.44338777 0.02212343 0.13326603]\n",
            "and the sum of the rebalanced weights:1.0000000000000002\n",
            "\n",
            " expected return\n",
            "0.2110739727754673\n",
            "\n",
            " expected volitility\n",
            "0.2398613202752938\n",
            "\n",
            " sharpe ratio\n",
            "0.8799833692786037\n"
          ],
          "name": "stdout"
        }
      ]
    },
    {
      "cell_type": "code",
      "metadata": {
        "colab": {
          "base_uri": "https://localhost:8080/"
        },
        "id": "buvaQLUof1wA",
        "outputId": "9c55d8e8-cd5e-45fb-d9bf-d82e592cf5fc"
      },
      "source": [
        "np.sum((log_ret.mean()*re_weights)*252)"
      ],
      "execution_count": null,
      "outputs": [
        {
          "output_type": "execute_result",
          "data": {
            "text/plain": [
              "0.2110739727754673"
            ]
          },
          "metadata": {
            "tags": []
          },
          "execution_count": 57
        }
      ]
    },
    {
      "cell_type": "code",
      "metadata": {
        "id": "kz6NABIPf1wA"
      },
      "source": [
        ""
      ],
      "execution_count": null,
      "outputs": []
    },
    {
      "cell_type": "markdown",
      "metadata": {
        "id": "GsLWFvVpf1wA"
      },
      "source": [
        "### making 10000 possible portfolios"
      ]
    },
    {
      "cell_type": "code",
      "metadata": {
        "id": "DwcjgMt3f1wA"
      },
      "source": [
        "no_port=10000\n",
        "all_weights=np.zeros((no_port,len(stocks.columns)))\n",
        "ret_arr=np.zeros(no_port)\n",
        "vol_arr=np.zeros(no_port)\n",
        "SR_arr=np.zeros(no_port)\n",
        "for index in range(no_port):\n",
        "    weights=np.array(np.random.random(4))\n",
        "    re_weights = weights/np.sum(weights)\n",
        "    \n",
        "    all_weights[index:]=re_weights\n",
        "    # expected returns\n",
        "    ret_arr[index] = np.sum((log_ret.mean()*re_weights)*252)\n",
        "    # expected volitility\n",
        "    vol_arr[index] = np.sqrt(np.dot(re_weights.T,np.dot(log_ret.cov()*252,re_weights)))\n",
        "    SR_arr[index] = ret_arr[index]/vol_arr[index]"
      ],
      "execution_count": null,
      "outputs": []
    },
    {
      "cell_type": "code",
      "metadata": {
        "colab": {
          "base_uri": "https://localhost:8080/"
        },
        "id": "IM_b8lLRf1wA",
        "outputId": "1fe2adf5-606b-42ed-d1c8-5278af9bc8d2"
      },
      "source": [
        "SR_arr.max()"
      ],
      "execution_count": null,
      "outputs": [
        {
          "output_type": "execute_result",
          "data": {
            "text/plain": [
              "1.2632596727876095"
            ]
          },
          "metadata": {
            "tags": []
          },
          "execution_count": 59
        }
      ]
    },
    {
      "cell_type": "code",
      "metadata": {
        "colab": {
          "base_uri": "https://localhost:8080/"
        },
        "id": "-FgibEhWf1wA",
        "outputId": "807127ed-b9bd-4e77-baf7-7120924e53ef"
      },
      "source": [
        "SR_arr.argmax()"
      ],
      "execution_count": null,
      "outputs": [
        {
          "output_type": "execute_result",
          "data": {
            "text/plain": [
              "2082"
            ]
          },
          "metadata": {
            "tags": []
          },
          "execution_count": 60
        }
      ]
    },
    {
      "cell_type": "code",
      "metadata": {
        "colab": {
          "base_uri": "https://localhost:8080/"
        },
        "id": "OKgRVBmzf1wA",
        "outputId": "8943999d-bf86-4c4a-e7b0-68d1351b8bd5"
      },
      "source": [
        "all_weights[2082,:]"
      ],
      "execution_count": null,
      "outputs": [
        {
          "output_type": "execute_result",
          "data": {
            "text/plain": [
              "array([0.34569116, 0.00556055, 0.00937775, 0.63937054])"
            ]
          },
          "metadata": {
            "tags": []
          },
          "execution_count": 61
        }
      ]
    },
    {
      "cell_type": "code",
      "metadata": {
        "colab": {
          "base_uri": "https://localhost:8080/",
          "height": 623
        },
        "id": "N8_4yB8If1wB",
        "outputId": "f766ac84-124d-4281-d780-fd36eebb1ef5"
      },
      "source": [
        "plt.figure(figsize=(15,10))\n",
        "plt.scatter(vol_arr,ret_arr,c=SR_arr,cmap='plasma')\n",
        "plt.colorbar(label='sharpe Ratio')\n",
        "plt.xlabel('volitility')\n",
        "plt.ylabel('expected returns')\n",
        "plt.scatter(vol_arr[2082],ret_arr[2082],c='red',s=55,edgecolor='black')"
      ],
      "execution_count": null,
      "outputs": [
        {
          "output_type": "execute_result",
          "data": {
            "text/plain": [
              "<matplotlib.collections.PathCollection at 0x7f892c9125c0>"
            ]
          },
          "metadata": {
            "tags": []
          },
          "execution_count": 62
        },
        {
          "output_type": "display_data",
          "data": {
            "image/png": "[encoded data removed]",
            "text/plain": [
              "<Figure size 1080x720 with 2 Axes>"
            ]
          },
          "metadata": {
            "tags": [],
            "needs_background": "light"
          }
        }
      ]
    },
    {
      "cell_type": "markdown",
      "metadata": {
        "id": "ftVpVV9cf1wB"
      },
      "source": [
        "### now instead of random allocation we are going to use math to get the to most effcient portfolio "
      ]
    },
    {
      "cell_type": "code",
      "metadata": {
        "id": "3Cs2g_z5f1wB"
      },
      "source": [
        "def get_ret_vol_SR(weights):\n",
        "    weights=np.array(weights)\n",
        "    ret=np.sum((log_ret.mean()*weights)*252)\n",
        "    vol=np.sqrt(np.dot(weights.T,np.dot(log_ret.cov()*252,weights)))\n",
        "    SR=ret/vol\n",
        "    return np.array([ret,vol,SR])"
      ],
      "execution_count": null,
      "outputs": []
    },
    {
      "cell_type": "code",
      "metadata": {
        "id": "8yPAIDFnf1wB"
      },
      "source": [
        "from scipy.optimize import minimize"
      ],
      "execution_count": null,
      "outputs": []
    },
    {
      "cell_type": "code",
      "metadata": {
        "colab": {
          "base_uri": "https://localhost:8080/"
        },
        "id": "1jCLxtzyf1wB",
        "outputId": "e1588c70-a610-4cb3-ac4c-dfebb252babd"
      },
      "source": [
        "help(minimize)"
      ],
      "execution_count": null,
      "outputs": [
        {
          "output_type": "stream",
          "text": [
            "Help on function minimize in module scipy.optimize._minimize:\n",
            "\n",
            "minimize(fun, x0, args=(), method=None, jac=None, hess=None, hessp=None, bounds=None, constraints=(), tol=None, callback=None, options=None)\n",
            "    Minimization of scalar function of one or more variables.\n",
            "    \n",
            "    Parameters\n",
            "    ----------\n",
            "    fun : callable\n",
            "        The objective function to be minimized.\n",
            "    \n",
            "            ``fun(x, *args) -> float``\n",
            "    \n",
            "        where x is an 1-D array with shape (n,) and `args`\n",
            "        is a tuple of the fixed parameters needed to completely\n",
            "        specify the function.\n",
            "    x0 : ndarray, shape (n,)\n",
            "        Initial guess. Array of real elements of size (n,),\n",
            "        where 'n' is the number of independent variables.\n",
            "    args : tuple, optional\n",
            "        Extra arguments passed to the objective function and its\n",
            "        derivatives (`fun`, `jac` and `hess` functions).\n",
            "    method : str or callable, optional\n",
            "        Type of solver.  Should be one of\n",
            "    \n",
            "            - 'Nelder-Mead' :ref:`(see here) <optimize.minimize-neldermead>`\n",
            "            - 'Powell'      :ref:`(see here) <optimize.minimize-powell>`\n",
            "            - 'CG'          :ref:`(see here) <optimize.minimize-cg>`\n",
            "            - 'BFGS'        :ref:`(see here) <optimize.minimize-bfgs>`\n",
            "            - 'Newton-CG'   :ref:`(see here) <optimize.minimize-newtoncg>`\n",
            "            - 'L-BFGS-B'    :ref:`(see here) <optimize.minimize-lbfgsb>`\n",
            "            - 'TNC'         :ref:`(see here) <optimize.minimize-tnc>`\n",
            "            - 'COBYLA'      :ref:`(see here) <optimize.minimize-cobyla>`\n",
            "            - 'SLSQP'       :ref:`(see here) <optimize.minimize-slsqp>`\n",
            "            - 'trust-constr':ref:`(see here) <optimize.minimize-trustconstr>`\n",
            "            - 'dogleg'      :ref:`(see here) <optimize.minimize-dogleg>`\n",
            "            - 'trust-ncg'   :ref:`(see here) <optimize.minimize-trustncg>`\n",
            "            - 'trust-exact' :ref:`(see here) <optimize.minimize-trustexact>`\n",
            "            - 'trust-krylov' :ref:`(see here) <optimize.minimize-trustkrylov>`\n",
            "            - custom - a callable object (added in version 0.14.0),\n",
            "              see below for description.\n",
            "    \n",
            "        If not given, chosen to be one of ``BFGS``, ``L-BFGS-B``, ``SLSQP``,\n",
            "        depending if the problem has constraints or bounds.\n",
            "    jac : {callable,  '2-point', '3-point', 'cs', bool}, optional\n",
            "        Method for computing the gradient vector. Only for CG, BFGS,\n",
            "        Newton-CG, L-BFGS-B, TNC, SLSQP, dogleg, trust-ncg, trust-krylov,\n",
            "        trust-exact and trust-constr. If it is a callable, it should be a\n",
            "        function that returns the gradient vector:\n",
            "    \n",
            "            ``jac(x, *args) -> array_like, shape (n,)``\n",
            "    \n",
            "        where x is an array with shape (n,) and `args` is a tuple with\n",
            "        the fixed parameters. Alternatively, the keywords\n",
            "        {'2-point', '3-point', 'cs'} select a finite\n",
            "        difference scheme for numerical estimation of the gradient. Options\n",
            "        '3-point' and 'cs' are available only to 'trust-constr'.\n",
            "        If `jac` is a Boolean and is True, `fun` is assumed to return the\n",
            "        gradient along with the objective function. If False, the gradient\n",
            "        will be estimated using '2-point' finite difference estimation.\n",
            "    hess : {callable, '2-point', '3-point', 'cs', HessianUpdateStrategy},  optional\n",
            "        Method for computing the Hessian matrix. Only for Newton-CG, dogleg,\n",
            "        trust-ncg,  trust-krylov, trust-exact and trust-constr. If it is\n",
            "        callable, it should return the  Hessian matrix:\n",
            "    \n",
            "            ``hess(x, *args) -> {LinearOperator, spmatrix, array}, (n, n)``\n",
            "    \n",
            "        where x is a (n,) ndarray and `args` is a tuple with the fixed\n",
            "        parameters. LinearOperator and sparse matrix returns are\n",
            "        allowed only for 'trust-constr' method. Alternatively, the keywords\n",
            "        {'2-point', '3-point', 'cs'} select a finite difference scheme\n",
            "        for numerical estimation. Or, objects implementing\n",
            "        `HessianUpdateStrategy` interface can be used to approximate\n",
            "        the Hessian. Available quasi-Newton methods implementing\n",
            "        this interface are:\n",
            "    \n",
            "            - `BFGS`;\n",
            "            - `SR1`.\n",
            "    \n",
            "        Whenever the gradient is estimated via finite-differences,\n",
            "        the Hessian cannot be estimated with options\n",
            "        {'2-point', '3-point', 'cs'} and needs to be\n",
            "        estimated using one of the quasi-Newton strategies.\n",
            "        Finite-difference options {'2-point', '3-point', 'cs'} and\n",
            "        `HessianUpdateStrategy` are available only for 'trust-constr' method.\n",
            "    hessp : callable, optional\n",
            "        Hessian of objective function times an arbitrary vector p. Only for\n",
            "        Newton-CG, trust-ncg, trust-krylov, trust-constr.\n",
            "        Only one of `hessp` or `hess` needs to be given.  If `hess` is\n",
            "        provided, then `hessp` will be ignored.  `hessp` must compute the\n",
            "        Hessian times an arbitrary vector:\n",
            "    \n",
            "            ``hessp(x, p, *args) ->  ndarray shape (n,)``\n",
            "    \n",
            "        where x is a (n,) ndarray, p is an arbitrary vector with\n",
            "        dimension (n,) and `args` is a tuple with the fixed\n",
            "        parameters.\n",
            "    bounds : sequence or `Bounds`, optional\n",
            "        Bounds on variables for L-BFGS-B, TNC, SLSQP and\n",
            "        trust-constr methods. There are two ways to specify the bounds:\n",
            "    \n",
            "            1. Instance of `Bounds` class.\n",
            "            2. Sequence of ``(min, max)`` pairs for each element in `x`. None\n",
            "               is used to specify no bound.\n",
            "    \n",
            "    constraints : {Constraint, dict} or List of {Constraint, dict}, optional\n",
            "        Constraints definition (only for COBYLA, SLSQP and trust-constr).\n",
            "        Constraints for 'trust-constr' are defined as a single object or a\n",
            "        list of objects specifying constraints to the optimization problem.\n",
            "        Available constraints are:\n",
            "    \n",
            "            - `LinearConstraint`\n",
            "            - `NonlinearConstraint`\n",
            "    \n",
            "        Constraints for COBYLA, SLSQP are defined as a list of dictionaries.\n",
            "        Each dictionary with fields:\n",
            "    \n",
            "            type : str\n",
            "                Constraint type: 'eq' for equality, 'ineq' for inequality.\n",
            "            fun : callable\n",
            "                The function defining the constraint.\n",
            "            jac : callable, optional\n",
            "                The Jacobian of `fun` (only for SLSQP).\n",
            "            args : sequence, optional\n",
            "                Extra arguments to be passed to the function and Jacobian.\n",
            "    \n",
            "        Equality constraint means that the constraint function result is to\n",
            "        be zero whereas inequality means that it is to be non-negative.\n",
            "        Note that COBYLA only supports inequality constraints.\n",
            "    tol : float, optional\n",
            "        Tolerance for termination. For detailed control, use solver-specific\n",
            "        options.\n",
            "    options : dict, optional\n",
            "        A dictionary of solver options. All methods accept the following\n",
            "        generic options:\n",
            "    \n",
            "            maxiter : int\n",
            "                Maximum number of iterations to perform. Depending on the\n",
            "                method each iteration may use several function evaluations.\n",
            "            disp : bool\n",
            "                Set to True to print convergence messages.\n",
            "    \n",
            "        For method-specific options, see :func:`show_options()`.\n",
            "    callback : callable, optional\n",
            "        Called after each iteration. For 'trust-constr' it is a callable with\n",
            "        the signature:\n",
            "    \n",
            "            ``callback(xk, OptimizeResult state) -> bool``\n",
            "    \n",
            "        where ``xk`` is the current parameter vector. and ``state``\n",
            "        is an `OptimizeResult` object, with the same fields\n",
            "        as the ones from the return.  If callback returns True\n",
            "        the algorithm execution is terminated.\n",
            "        For all the other methods, the signature is:\n",
            "    \n",
            "            ``callback(xk)``\n",
            "    \n",
            "        where ``xk`` is the current parameter vector.\n",
            "    \n",
            "    Returns\n",
            "    -------\n",
            "    res : OptimizeResult\n",
            "        The optimization result represented as a ``OptimizeResult`` object.\n",
            "        Important attributes are: ``x`` the solution array, ``success`` a\n",
            "        Boolean flag indicating if the optimizer exited successfully and\n",
            "        ``message`` which describes the cause of the termination. See\n",
            "        `OptimizeResult` for a description of other attributes.\n",
            "    \n",
            "    See also\n",
            "    --------\n",
            "    minimize_scalar : Interface to minimization algorithms for scalar\n",
            "        univariate functions\n",
            "    show_options : Additional options accepted by the solvers\n",
            "    \n",
            "    Notes\n",
            "    -----\n",
            "    This section describes the available solvers that can be selected by the\n",
            "    'method' parameter. The default method is *BFGS*.\n",
            "    \n",
            "    **Unconstrained minimization**\n",
            "    \n",
            "    Method :ref:`Nelder-Mead <optimize.minimize-neldermead>` uses the\n",
            "    Simplex algorithm [1]_, [2]_. This algorithm is robust in many\n",
            "    applications. However, if numerical computation of derivative can be\n",
            "    trusted, other algorithms using the first and/or second derivatives\n",
            "    information might be preferred for their better performance in\n",
            "    general.\n",
            "    \n",
            "    Method :ref:`Powell <optimize.minimize-powell>` is a modification\n",
            "    of Powell's method [3]_, [4]_ which is a conjugate direction\n",
            "    method. It performs sequential one-dimensional minimizations along\n",
            "    each vector of the directions set (`direc` field in `options` and\n",
            "    `info`), which is updated at each iteration of the main\n",
            "    minimization loop. The function need not be differentiable, and no\n",
            "    derivatives are taken.\n",
            "    \n",
            "    Method :ref:`CG <optimize.minimize-cg>` uses a nonlinear conjugate\n",
            "    gradient algorithm by Polak and Ribiere, a variant of the\n",
            "    Fletcher-Reeves method described in [5]_ pp.  120-122. Only the\n",
            "    first derivatives are used.\n",
            "    \n",
            "    Method :ref:`BFGS <optimize.minimize-bfgs>` uses the quasi-Newton\n",
            "    method of Broyden, Fletcher, Goldfarb, and Shanno (BFGS) [5]_\n",
            "    pp. 136. It uses the first derivatives only. BFGS has proven good\n",
            "    performance even for non-smooth optimizations. This method also\n",
            "    returns an approximation of the Hessian inverse, stored as\n",
            "    `hess_inv` in the OptimizeResult object.\n",
            "    \n",
            "    Method :ref:`Newton-CG <optimize.minimize-newtoncg>` uses a\n",
            "    Newton-CG algorithm [5]_ pp. 168 (also known as the truncated\n",
            "    Newton method). It uses a CG method to the compute the search\n",
            "    direction. See also *TNC* method for a box-constrained\n",
            "    minimization with a similar algorithm. Suitable for large-scale\n",
            "    problems.\n",
            "    \n",
            "    Method :ref:`dogleg <optimize.minimize-dogleg>` uses the dog-leg\n",
            "    trust-region algorithm [5]_ for unconstrained minimization. This\n",
            "    algorithm requires the gradient and Hessian; furthermore the\n",
            "    Hessian is required to be positive definite.\n",
            "    \n",
            "    Method :ref:`trust-ncg <optimize.minimize-trustncg>` uses the\n",
            "    Newton conjugate gradient trust-region algorithm [5]_ for\n",
            "    unconstrained minimization. This algorithm requires the gradient\n",
            "    and either the Hessian or a function that computes the product of\n",
            "    the Hessian with a given vector. Suitable for large-scale problems.\n",
            "    \n",
            "    Method :ref:`trust-krylov <optimize.minimize-trustkrylov>` uses\n",
            "    the Newton GLTR trust-region algorithm [14]_, [15]_ for unconstrained\n",
            "    minimization. This algorithm requires the gradient\n",
            "    and either the Hessian or a function that computes the product of\n",
            "    the Hessian with a given vector. Suitable for large-scale problems.\n",
            "    On indefinite problems it requires usually less iterations than the\n",
            "    `trust-ncg` method and is recommended for medium and large-scale problems.\n",
            "    \n",
            "    Method :ref:`trust-exact <optimize.minimize-trustexact>`\n",
            "    is a trust-region method for unconstrained minimization in which\n",
            "    quadratic subproblems are solved almost exactly [13]_. This\n",
            "    algorithm requires the gradient and the Hessian (which is\n",
            "    *not* required to be positive definite). It is, in many\n",
            "    situations, the Newton method to converge in fewer iteraction\n",
            "    and the most recommended for small and medium-size problems.\n",
            "    \n",
            "    **Bound-Constrained minimization**\n",
            "    \n",
            "    Method :ref:`L-BFGS-B <optimize.minimize-lbfgsb>` uses the L-BFGS-B\n",
            "    algorithm [6]_, [7]_ for bound constrained minimization.\n",
            "    \n",
            "    Method :ref:`TNC <optimize.minimize-tnc>` uses a truncated Newton\n",
            "    algorithm [5]_, [8]_ to minimize a function with variables subject\n",
            "    to bounds. This algorithm uses gradient information; it is also\n",
            "    called Newton Conjugate-Gradient. It differs from the *Newton-CG*\n",
            "    method described above as it wraps a C implementation and allows\n",
            "    each variable to be given upper and lower bounds.\n",
            "    \n",
            "    **Constrained Minimization**\n",
            "    \n",
            "    Method :ref:`COBYLA <optimize.minimize-cobyla>` uses the\n",
            "    Constrained Optimization BY Linear Approximation (COBYLA) method\n",
            "    [9]_, [10]_, [11]_. The algorithm is based on linear\n",
            "    approximations to the objective function and each constraint. The\n",
            "    method wraps a FORTRAN implementation of the algorithm. The\n",
            "    constraints functions 'fun' may return either a single number\n",
            "    or an array or list of numbers.\n",
            "    \n",
            "    Method :ref:`SLSQP <optimize.minimize-slsqp>` uses Sequential\n",
            "    Least SQuares Programming to minimize a function of several\n",
            "    variables with any combination of bounds, equality and inequality\n",
            "    constraints. The method wraps the SLSQP Optimization subroutine\n",
            "    originally implemented by Dieter Kraft [12]_. Note that the\n",
            "    wrapper handles infinite values in bounds by converting them into\n",
            "    large floating values.\n",
            "    \n",
            "    Method :ref:`trust-constr <optimize.minimize-trustconstr>` is a\n",
            "    trust-region algorithm for constrained optimization. It swiches\n",
            "    between two implementations depending on the problem definition.\n",
            "    It is the most versatile constrained minimization algorithm\n",
            "    implemented in SciPy and the most appropriate for large-scale problems.\n",
            "    For equality constrained problems it is an implementation of Byrd-Omojokun\n",
            "    Trust-Region SQP method described in [17]_ and in [5]_, p. 549. When\n",
            "    inequality constraints  are imposed as well, it swiches to the trust-region\n",
            "    interior point  method described in [16]_. This interior point algorithm,\n",
            "    in turn, solves inequality constraints by introducing slack variables\n",
            "    and solving a sequence of equality-constrained barrier problems\n",
            "    for progressively smaller values of the barrier parameter.\n",
            "    The previously described equality constrained SQP method is\n",
            "    used to solve the subproblems with increasing levels of accuracy\n",
            "    as the iterate gets closer to a solution.\n",
            "    \n",
            "    **Finite-Difference Options**\n",
            "    \n",
            "    For Method :ref:`trust-constr <optimize.minimize-trustconstr>`\n",
            "    the gradient and the Hessian may be approximated using\n",
            "    three finite-difference schemes: {'2-point', '3-point', 'cs'}.\n",
            "    The scheme 'cs' is, potentially, the most accurate but it\n",
            "    requires the function to correctly handles complex inputs and to\n",
            "    be differentiable in the complex plane. The scheme '3-point' is more\n",
            "    accurate than '2-point' but requires twice as much operations.\n",
            "    \n",
            "    **Custom minimizers**\n",
            "    \n",
            "    It may be useful to pass a custom minimization method, for example\n",
            "    when using a frontend to this method such as `scipy.optimize.basinhopping`\n",
            "    or a different library.  You can simply pass a callable as the ``method``\n",
            "    parameter.\n",
            "    \n",
            "    The callable is called as ``method(fun, x0, args, **kwargs, **options)``\n",
            "    where ``kwargs`` corresponds to any other parameters passed to `minimize`\n",
            "    (such as `callback`, `hess`, etc.), except the `options` dict, which has\n",
            "    its contents also passed as `method` parameters pair by pair.  Also, if\n",
            "    `jac` has been passed as a bool type, `jac` and `fun` are mangled so that\n",
            "    `fun` returns just the function values and `jac` is converted to a function\n",
            "    returning the Jacobian.  The method shall return an `OptimizeResult`\n",
            "    object.\n",
            "    \n",
            "    The provided `method` callable must be able to accept (and possibly ignore)\n",
            "    arbitrary parameters; the set of parameters accepted by `minimize` may\n",
            "    expand in future versions and then these parameters will be passed to\n",
            "    the method.  You can find an example in the scipy.optimize tutorial.\n",
            "    \n",
            "    .. versionadded:: 0.11.0\n",
            "    \n",
            "    References\n",
            "    ----------\n",
            "    .. [1] Nelder, J A, and R Mead. 1965. A Simplex Method for Function\n",
            "        Minimization. The Computer Journal 7: 308-13.\n",
            "    .. [2] Wright M H. 1996. Direct search methods: Once scorned, now\n",
            "        respectable, in Numerical Analysis 1995: Proceedings of the 1995\n",
            "        Dundee Biennial Conference in Numerical Analysis (Eds. D F\n",
            "        Griffiths and G A Watson). Addison Wesley Longman, Harlow, UK.\n",
            "        191-208.\n",
            "    .. [3] Powell, M J D. 1964. An efficient method for finding the minimum of\n",
            "       a function of several variables without calculating derivatives. The\n",
            "       Computer Journal 7: 155-162.\n",
            "    .. [4] Press W, S A Teukolsky, W T Vetterling and B P Flannery.\n",
            "       Numerical Recipes (any edition), Cambridge University Press.\n",
            "    .. [5] Nocedal, J, and S J Wright. 2006. Numerical Optimization.\n",
            "       Springer New York.\n",
            "    .. [6] Byrd, R H and P Lu and J. Nocedal. 1995. A Limited Memory\n",
            "       Algorithm for Bound Constrained Optimization. SIAM Journal on\n",
            "       Scientific and Statistical Computing 16 (5): 1190-1208.\n",
            "    .. [7] Zhu, C and R H Byrd and J Nocedal. 1997. L-BFGS-B: Algorithm\n",
            "       778: L-BFGS-B, FORTRAN routines for large scale bound constrained\n",
            "       optimization. ACM Transactions on Mathematical Software 23 (4):\n",
            "       550-560.\n",
            "    .. [8] Nash, S G. Newton-Type Minimization Via the Lanczos Method.\n",
            "       1984. SIAM Journal of Numerical Analysis 21: 770-778.\n",
            "    .. [9] Powell, M J D. A direct search optimization method that models\n",
            "       the objective and constraint functions by linear interpolation.\n",
            "       1994. Advances in Optimization and Numerical Analysis, eds. S. Gomez\n",
            "       and J-P Hennart, Kluwer Academic (Dordrecht), 51-67.\n",
            "    .. [10] Powell M J D. Direct search algorithms for optimization\n",
            "       calculations. 1998. Acta Numerica 7: 287-336.\n",
            "    .. [11] Powell M J D. A view of algorithms for optimization without\n",
            "       derivatives. 2007.Cambridge University Technical Report DAMTP\n",
            "       2007/NA03\n",
            "    .. [12] Kraft, D. A software package for sequential quadratic\n",
            "       programming. 1988. Tech. Rep. DFVLR-FB 88-28, DLR German Aerospace\n",
            "       Center -- Institute for Flight Mechanics, Koln, Germany.\n",
            "    .. [13] Conn, A. R., Gould, N. I., and Toint, P. L.\n",
            "       Trust region methods. 2000. Siam. pp. 169-200.\n",
            "    .. [14] F. Lenders, C. Kirches, A. Potschka: \"trlib: A vector-free\n",
            "       implementation of the GLTR method for iterative solution of\n",
            "       the trust region problem\", https://arxiv.org/abs/1611.04718\n",
            "    .. [15] N. Gould, S. Lucidi, M. Roma, P. Toint: \"Solving the\n",
            "       Trust-Region Subproblem using the Lanczos Method\",\n",
            "       SIAM J. Optim., 9(2), 504--525, (1999).\n",
            "    .. [16] Byrd, Richard H., Mary E. Hribar, and Jorge Nocedal. 1999.\n",
            "        An interior point algorithm for large-scale nonlinear  programming.\n",
            "        SIAM Journal on Optimization 9.4: 877-900.\n",
            "    .. [17] Lalee, Marucha, Jorge Nocedal, and Todd Plantega. 1998. On the\n",
            "        implementation of an algorithm for large-scale equality constrained\n",
            "        optimization. SIAM Journal on Optimization 8.3: 682-706.\n",
            "    \n",
            "    Examples\n",
            "    --------\n",
            "    Let us consider the problem of minimizing the Rosenbrock function. This\n",
            "    function (and its respective derivatives) is implemented in `rosen`\n",
            "    (resp. `rosen_der`, `rosen_hess`) in the `scipy.optimize`.\n",
            "    \n",
            "    >>> from scipy.optimize import minimize, rosen, rosen_der\n",
            "    \n",
            "    A simple application of the *Nelder-Mead* method is:\n",
            "    \n",
            "    >>> x0 = [1.3, 0.7, 0.8, 1.9, 1.2]\n",
            "    >>> res = minimize(rosen, x0, method='Nelder-Mead', tol=1e-6)\n",
            "    >>> res.x\n",
            "    array([ 1.,  1.,  1.,  1.,  1.])\n",
            "    \n",
            "    Now using the *BFGS* algorithm, using the first derivative and a few\n",
            "    options:\n",
            "    \n",
            "    >>> res = minimize(rosen, x0, method='BFGS', jac=rosen_der,\n",
            "    ...                options={'gtol': 1e-6, 'disp': True})\n",
            "    Optimization terminated successfully.\n",
            "             Current function value: 0.000000\n",
            "             Iterations: 26\n",
            "             Function evaluations: 31\n",
            "             Gradient evaluations: 31\n",
            "    >>> res.x\n",
            "    array([ 1.,  1.,  1.,  1.,  1.])\n",
            "    >>> print(res.message)\n",
            "    Optimization terminated successfully.\n",
            "    >>> res.hess_inv\n",
            "    array([[ 0.00749589,  0.01255155,  0.02396251,  0.04750988,  0.09495377],  # may vary\n",
            "           [ 0.01255155,  0.02510441,  0.04794055,  0.09502834,  0.18996269],\n",
            "           [ 0.02396251,  0.04794055,  0.09631614,  0.19092151,  0.38165151],\n",
            "           [ 0.04750988,  0.09502834,  0.19092151,  0.38341252,  0.7664427 ],\n",
            "           [ 0.09495377,  0.18996269,  0.38165151,  0.7664427,   1.53713523]])\n",
            "    \n",
            "    \n",
            "    Next, consider a minimization problem with several constraints (namely\n",
            "    Example 16.4 from [5]_). The objective function is:\n",
            "    \n",
            "    >>> fun = lambda x: (x[0] - 1)**2 + (x[1] - 2.5)**2\n",
            "    \n",
            "    There are three constraints defined as:\n",
            "    \n",
            "    >>> cons = ({'type': 'ineq', 'fun': lambda x:  x[0] - 2 * x[1] + 2},\n",
            "    ...         {'type': 'ineq', 'fun': lambda x: -x[0] - 2 * x[1] + 6},\n",
            "    ...         {'type': 'ineq', 'fun': lambda x: -x[0] + 2 * x[1] + 2})\n",
            "    \n",
            "    And variables must be positive, hence the following bounds:\n",
            "    \n",
            "    >>> bnds = ((0, None), (0, None))\n",
            "    \n",
            "    The optimization problem is solved using the SLSQP method as:\n",
            "    \n",
            "    >>> res = minimize(fun, (2, 0), method='SLSQP', bounds=bnds,\n",
            "    ...                constraints=cons)\n",
            "    \n",
            "    It should converge to the theoretical solution (1.4 ,1.7).\n",
            "\n"
          ],
          "name": "stdout"
        }
      ]
    },
    {
      "cell_type": "code",
      "metadata": {
        "id": "pI7OO_Bbf1wB"
      },
      "source": [
        "def neg_sharpe(weights):\n",
        "    return get_ret_vol_SR(weights)[2]*-1\n",
        "# we have to minimize the neg sharpe ratio therefore this is the function we want to minimize"
      ],
      "execution_count": null,
      "outputs": []
    },
    {
      "cell_type": "code",
      "metadata": {
        "id": "MPVIVXJDf1wB"
      },
      "source": [
        "# constraints we can help optimisation with constratins it will help it to calculate faster as there are constraints\n",
        "def check_sum(weights):\n",
        "    '''\n",
        "    Returns 0 if sum of weights is 1.0\n",
        "    '''\n",
        "    return np.sum(weights) - 1\n",
        "# this is goin to return 0 if your weights are 1 or else it will tell you how off are you from 1"
      ],
      "execution_count": null,
      "outputs": []
    },
    {
      "cell_type": "code",
      "metadata": {
        "colab": {
          "base_uri": "https://localhost:8080/"
        },
        "id": "svf_zW7tf1wB",
        "outputId": "ec747d60-831f-4216-dc76-00f8f74c33f5"
      },
      "source": [
        "# create a variable for constraints , i am goin to create a tuple with a dictionary inside of it\n",
        "cons = ({'type':'eq','fun': check_sum})\n",
        "# this minimize function should return 0 for correct conditions\n",
        "cons"
      ],
      "execution_count": null,
      "outputs": [
        {
          "output_type": "execute_result",
          "data": {
            "text/plain": [
              "{'fun': <function __main__.check_sum>, 'type': 'eq'}"
            ]
          },
          "metadata": {
            "tags": []
          },
          "execution_count": 68
        }
      ]
    },
    {
      "cell_type": "code",
      "metadata": {
        "id": "CqKvSZijf1wB"
      },
      "source": [
        "# we also have bounds this bounds is goin to be a tuple of tuples\n",
        "bounds=((0,1),(0,1),(0,1),(0,1))\n",
        "# we know sum has to be = 1, so we know that the weights have to be inbetween 0 and 1 "
      ],
      "execution_count": null,
      "outputs": []
    },
    {
      "cell_type": "code",
      "metadata": {
        "id": "1Fka4gY_f1wB"
      },
      "source": [
        "initial_guess = [0.25,0.25,0.25,0.25]"
      ],
      "execution_count": null,
      "outputs": []
    },
    {
      "cell_type": "code",
      "metadata": {
        "id": "gwdba3ZVf1wB"
      },
      "source": [
        "optimal_function=minimize(neg_sharpe,initial_guess,method='SLSQP',bounds=bounds,constraints=(cons))"
      ],
      "execution_count": null,
      "outputs": []
    },
    {
      "cell_type": "code",
      "metadata": {
        "colab": {
          "base_uri": "https://localhost:8080/"
        },
        "id": "kUbaCG6rf1wC",
        "outputId": "8d7db7c4-6672-43c2-bb14-e9c8a653322c"
      },
      "source": [
        "optimal_function"
      ],
      "execution_count": null,
      "outputs": [
        {
          "output_type": "execute_result",
          "data": {
            "text/plain": [
              "     fun: -1.2781081982896076\n",
              "     jac: array([ 8.04662704e-06,  2.37670854e-01,  4.65978280e-01, -2.45869160e-06])\n",
              " message: 'Optimization terminated successfully.'\n",
              "    nfev: 24\n",
              "     nit: 4\n",
              "    njev: 4\n",
              "  status: 0\n",
              " success: True\n",
              "       x: array([2.35380592e-01, 1.31513724e-16, 0.00000000e+00, 7.64619408e-01])"
            ]
          },
          "metadata": {
            "tags": []
          },
          "execution_count": 72
        }
      ]
    },
    {
      "cell_type": "code",
      "metadata": {
        "colab": {
          "base_uri": "https://localhost:8080/"
        },
        "id": "NOJgBQ4-f1wC",
        "outputId": "2eb88950-91d3-436f-d802-bd3d9ed05bce"
      },
      "source": [
        "optimal_function.x"
      ],
      "execution_count": null,
      "outputs": [
        {
          "output_type": "execute_result",
          "data": {
            "text/plain": [
              "array([2.35380592e-01, 1.31513724e-16, 0.00000000e+00, 7.64619408e-01])"
            ]
          },
          "metadata": {
            "tags": []
          },
          "execution_count": 73
        }
      ]
    },
    {
      "cell_type": "code",
      "metadata": {
        "colab": {
          "base_uri": "https://localhost:8080/"
        },
        "id": "SCZ0v0Zpf1wC",
        "outputId": "0f1b4e5e-1a13-453d-ce88-552023bd5c03"
      },
      "source": [
        "get_ret_vol_SR(optimal_function.x)"
      ],
      "execution_count": null,
      "outputs": [
        {
          "output_type": "execute_result",
          "data": {
            "text/plain": [
              "array([0.35800738, 0.28010725, 1.2781082 ])"
            ]
          },
          "metadata": {
            "tags": []
          },
          "execution_count": 74
        }
      ]
    },
    {
      "cell_type": "code",
      "metadata": {
        "id": "kAL_veYQf1wC"
      },
      "source": [
        "frontier_y=np.linspace(0,0.35,100)"
      ],
      "execution_count": null,
      "outputs": []
    },
    {
      "cell_type": "code",
      "metadata": {
        "id": "8oQhoKqAf1wC"
      },
      "source": [
        "def minimize_volitility(weights):\n",
        "    return get_ret_vol_SR(weights)[1]"
      ],
      "execution_count": null,
      "outputs": []
    },
    {
      "cell_type": "code",
      "metadata": {
        "id": "SoW2AqNhf1wC"
      },
      "source": [
        "frontier_volitility=[]\n",
        "for possible_returns in frontier_y:\n",
        "    cons=({'type':'eq','fun':check_sum},\n",
        "          {'type':'eq','fun':lambda w : get_ret_vol_SR(w)[0] - possible_returns})\n",
        "    \n",
        "    result=minimize(minimize_volitility,initial_guess,method='SLSQP',bounds=bounds,constraints=cons)\n",
        "    frontier_volitility.append(result['fun'])"
      ],
      "execution_count": null,
      "outputs": []
    },
    {
      "cell_type": "code",
      "metadata": {
        "colab": {
          "base_uri": "https://localhost:8080/",
          "height": 623
        },
        "id": "vqb0D_ylf1wC",
        "outputId": "a99d2347-0299-4084-b945-8a4d9f7e112b"
      },
      "source": [
        "plt.figure(figsize=(15,10))\n",
        "plt.scatter(vol_arr,ret_arr,c=SR_arr,cmap='plasma')\n",
        "plt.colorbar(label='sharpe Ratio')\n",
        "plt.xlabel('volitility')\n",
        "plt.ylabel('expected returns')\n",
        "# plt.scatter(vol_arr[2082],ret_arr[2082],c='red',s=55,edgecolor='black')\n",
        "\n",
        "plt.plot(frontier_volitility,frontier_y,'g-',linewidth=3)"
      ],
      "execution_count": null,
      "outputs": [
        {
          "output_type": "execute_result",
          "data": {
            "text/plain": [
              "[<matplotlib.lines.Line2D at 0x7f89377a1358>]"
            ]
          },
          "metadata": {
            "tags": []
          },
          "execution_count": 78
        },
        {
          "output_type": "display_data",
          "data": {
            "image/png": "[encoded data removed]",
            "text/plain": [
              "<Figure size 1080x720 with 2 Axes>"
            ]
          },
          "metadata": {
            "tags": [],
            "needs_background": "light"
          }
        }
      ]
    }
  ]
}